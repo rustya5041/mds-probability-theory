{
  "cells": [
    {
      "cell_type": "markdown",
      "metadata": {
        "id": "3CnUdDZ4onHd"
      },
      "source": [
        "# Probability\n",
        "## Final project"
      ]
    },
    {
      "cell_type": "code",
      "execution_count": 1,
      "metadata": {},
      "outputs": [],
      "source": [
        "# array-based computations to speed up the algos\n",
        "import numpy as np"
      ]
    },
    {
      "cell_type": "markdown",
      "metadata": {
        "id": "oVsd_-pwonHh"
      },
      "source": [
        "In the final project you will develop your own classification algorithm based on probabilistic models.\n",
        "\n",
        "In `data.zip`you can find a collection of texts in English, Italian, Spanish, German, French, Polish and Portuguese languages obtained from random Wikipedia articles, see e.g. `Spanish.txt`. (See corresponding `.source.txt` files and links therein for lists of authors.) "
      ]
    },
    {
      "cell_type": "code",
      "execution_count": 2,
      "metadata": {
        "id": "QGomL4UnonHj",
        "outputId": "dd285558-454e-4a2c-e835-29f4b63764fa"
      },
      "outputs": [
        {
          "name": "stdout",
          "output_type": "stream",
          "text": [
            "tomas zapata sierra medellin colombia  de mayo de  es productor de cine y de teatrocita requerida\n",
            "sad eyed lady of the lowlands en espanol senorita de ojos tristes de las tierras bajas es una cancion compuesta por el cantante estadounidense bob dylan fue incluida en el album blonde on blonde editado el  de mayo de \n",
            "la revista mojo la coloco en el puesto  de su lista de las  mejores canciones de bob dylan\n",
            "calyptocephalella canqueli es una especie extinta de anfibio anuro perteneciente al genero c\n"
          ]
        }
      ],
      "source": [
        "with open(\"Spanish.txt\") as f:\n",
        "    print(f.read(500))"
      ]
    },
    {
      "cell_type": "code",
      "execution_count": 3,
      "metadata": {
        "id": "in7YYpE4onHk",
        "outputId": "95746c59-db7e-4d52-f559-b5a5262cbeb5"
      },
      "outputs": [
        {
          "name": "stdout",
          "output_type": "stream",
          "text": [
            "riedhofe ist der name von ortsteilen in deutschland\n",
            "\n",
            "in badenwurttemberg\n",
            "riedhofe langenau ortsteil der stadt langenau im albdonaukreis\n",
            "riedhofe frickingen ortsteil der gemeinde frickingen im bodenseekreis\n",
            "riedhofe riegel am kaiserstuhl ortsteil der gemeinde riegel am kaiserstuhl im landkreis emmendingen\n",
            "riedhofe kongen ortsteil der gemeinde kongen im landkreis esslingen\n",
            "riedhofe leingarten ortsteil der gemeinde leingarten im landkreis heilbronn\n",
            "riedhofe bad wurzach ortsteil der stadt bad wurzac\n"
          ]
        }
      ],
      "source": [
        "with open(\"German.txt\") as f:\n",
        "    print(f.read(500))"
      ]
    },
    {
      "cell_type": "markdown",
      "metadata": {
        "id": "OSlexPmBonHl"
      },
      "source": [
        "This is our training data. These texts are preprocessed: only standard Latin characters kept, diacritics removed, punctuations removed, all letters converted to lowercase. We will use similar preprocessing for new texts that we have to classify. Here are some useful functions to do it."
      ]
    },
    {
      "cell_type": "markdown",
      "metadata": {
        "id": "3YtkQsA0onHm"
      },
      "source": [
        "### Preprocessing functions"
      ]
    },
    {
      "cell_type": "code",
      "execution_count": 4,
      "metadata": {
        "id": "9pmmgKsZonHn"
      },
      "outputs": [],
      "source": [
        "import re\n",
        "import unicodedata\n",
        "\n",
        "### FROM: https://stackoverflow.com/a/518232/3025981\n",
        "def strip_accents(s):\n",
        "    return ''.join(c for c in unicodedata.normalize('NFD', s)\n",
        "                   if unicodedata.category(c) != 'Mn')\n",
        "### END FROM\n",
        "\n",
        "def clean_text(s):\n",
        "    return re.sub(\"[^a-z \\n]\", \"\", strip_accents(s))"
      ]
    },
    {
      "cell_type": "markdown",
      "metadata": {
        "id": "or23-0YeonHo"
      },
      "source": [
        "### Learning: obtaining character frequencies"
      ]
    },
    {
      "cell_type": "markdown",
      "metadata": {
        "id": "7PncO_AQonHp"
      },
      "source": [
        "First of all, we have to find character relative frequencies in texts of each language. We will consider them as probability for character to appear in our multinomial model. Write function `get_freqs(text, relative)` that takes string `text` as input and returns dictionary which keys are all distinct characters occurred in `text` and values are frequencies (relative if `relative` is `True` and absolute otherwise). A similar function was discussed in Python videos previously. Note that Python treat `str` objects as a sequence of characters (e.g. if you try to iterate it)."
      ]
    },
    {
      "cell_type": "code",
      "execution_count": 5,
      "metadata": {
        "id": "JBA_XsgYonHq",
        "nbgrader": {
          "grade": false,
          "grade_id": "cell-bcf26fb5354210c1",
          "locked": false,
          "schema_version": 3,
          "solution": true,
          "task": false
        }
      },
      "outputs": [],
      "source": [
        "def get_freqs(text, relative=False):\n",
        "    freqs = {c: text.count(c) for c in set(text)}\n",
        "    if relative:\n",
        "        freqs = {c: freqs[c] / len(text) for c in freqs}\n",
        "    return freqs\n"
      ]
    },
    {
      "cell_type": "code",
      "execution_count": 6,
      "metadata": {
        "id": "swbANAoSonHq",
        "nbgrader": {
          "grade": true,
          "grade_id": "cell-122fc498050c5088",
          "locked": true,
          "points": 1,
          "schema_version": 3,
          "solution": false,
          "task": false
        }
      },
      "outputs": [],
      "source": [
        "assert get_freqs('Hello, World!') == {'H': 1, 'e': 1, 'l': 3, 'o': 2, ',': 1,\n",
        "                                      ' ': 1, 'W': 1, 'r': 1, 'd': 1, '!': 1}"
      ]
    },
    {
      "cell_type": "markdown",
      "metadata": {
        "id": "60jvwbNuonHr"
      },
      "source": [
        "Now use function `get_freqs` to create a dictionary `lang_to_prob` which keys are names of languages (i.e. `'English'`, `'Italian'`, `'Spanish'`, `'German'`, `'French'`, `'Polish'`, `'Portuguese'`) and values are dictionaries of relative frequencies, obtained by processing of corresponding `.txt` files."
      ]
    },
    {
      "cell_type": "code",
      "execution_count": 7,
      "metadata": {
        "id": "z9DuhKWQonHr",
        "nbgrader": {
          "grade": false,
          "grade_id": "cell-1beba6e8ac03b0b0",
          "locked": false,
          "schema_version": 3,
          "solution": true,
          "task": false
        }
      },
      "outputs": [],
      "source": [
        "### BEGIN SOLUTION\n",
        "LANGUAGES = ['English', 'Italian', 'Spanish', 'German', 'French', 'Polish', 'Portuguese']\n",
        "lang_to_probs = {}\n",
        "\n",
        "for lang in LANGUAGES:\n",
        "    with open(f\"{lang}.txt\") as f:\n",
        "        text = clean_text(f.read())\n",
        "        lang_to_probs[lang] = get_freqs(text, relative=True)\n",
        "### END SOLUTION"
      ]
    },
    {
      "cell_type": "code",
      "execution_count": 8,
      "metadata": {
        "id": "K_6dUv1JonHs",
        "nbgrader": {
          "grade": true,
          "grade_id": "cell-56feb4b2ab62c15c",
          "locked": true,
          "points": 1,
          "schema_version": 3,
          "solution": false,
          "task": false
        }
      },
      "outputs": [],
      "source": [
        "assert abs(lang_to_probs['Polish']['a'] - 0.08504245058355897) < 0.00001\n",
        "assert abs(lang_to_probs['English']['x'] - 0.001387857977519179) < 1e-5\n",
        "assert len(set(lang_to_probs['Portuguese'])) == 28"
      ]
    },
    {
      "cell_type": "markdown",
      "metadata": {
        "id": "4IT9Az6EonHs"
      },
      "source": [
        "### Likelihoods\n",
        "Now let us start implementing the actual classifier. We begin with multinomial likelihood function. Implement function `multinomial_likelihood(probs, freqs)` that takes two arguments: `probs` are dictionary of probabilities of each character (in some language) and `freqs` is dictionary of absolute frequencies of each character (in some text we want to classify). This function have to return probability to obtain these absolute frequencies from multinomial distribution with given probabilities $P((X_1 = f_1) \\cap (X_2 = f_2) \\cap \\ldots \\cap (X_k = f_k))$ provided that $(X_1, \\ldots, X_k)$ is a system of multinomially distributed values with probabilities $(p_1, \\ldots, p_k)$. (You need `factorial` function that can be imported from `math`.)"
      ]
    },
    {
      "cell_type": "code",
      "execution_count": 9,
      "metadata": {
        "id": "KS4lto2KonHs",
        "nbgrader": {
          "grade": false,
          "grade_id": "cell-9a0431bd007d04cf",
          "locked": false,
          "schema_version": 3,
          "solution": true,
          "task": false
        }
      },
      "outputs": [],
      "source": [
        "### BEGIN SOLUTION\n",
        "def multinomial_likelihood(probs, freqs): \n",
        "    p = 1 \n",
        "    n = np.math.factorial(sum(freqs.values())) \n",
        "    \n",
        "    for c in freqs: \n",
        "        n /= np.math.factorial(freqs[c]) \n",
        "        p *= np.power(probs[c], freqs[c] )\n",
        "    return np.multiply(n, p)\n",
        "### END SOLUTION"
      ]
    },
    {
      "cell_type": "markdown",
      "metadata": {
        "id": "4q3K8je2onHt"
      },
      "source": [
        "Let's find likelihood of data with frequencies `{'a': 2, 'b': 1, 'c': 2}` and probabilities `{'a': 0.2, 'b': 0.5, 'c': 0.3}`:"
      ]
    },
    {
      "cell_type": "code",
      "execution_count": 10,
      "metadata": {
        "id": "QoqTTC0ionHt",
        "outputId": "e625aebf-1dfd-4f46-d1bd-a5c21aa79306"
      },
      "outputs": [
        {
          "data": {
            "text/plain": [
              "0.05400000000000001"
            ]
          },
          "execution_count": 10,
          "metadata": {},
          "output_type": "execute_result"
        }
      ],
      "source": [
        "multinomial_likelihood(probs={'a': 0.2, 'b': 0.5, 'c': 0.3}, freqs={'a': 2, 'b': 1, 'c': 2})"
      ]
    },
    {
      "cell_type": "code",
      "execution_count": 11,
      "metadata": {},
      "outputs": [
        {
          "data": {
            "text/plain": [
              "0.010800000000000002"
            ]
          },
          "execution_count": 11,
          "metadata": {},
          "output_type": "execute_result"
        }
      ],
      "source": [
        "multinomial_likelihood(probs={'a': 0.2, 'b': 0.1, 'c': 0.3, 'd': 0.4},\n",
        "                    freqs={'a': 2, 'b': 1, 'c': 2})"
      ]
    },
    {
      "cell_type": "code",
      "execution_count": 12,
      "metadata": {
        "id": "2VYIB_LronHt",
        "nbgrader": {
          "grade": true,
          "grade_id": "cell-0a8a6d99346b6bf8",
          "locked": true,
          "points": 2,
          "schema_version": 3,
          "solution": false,
          "task": false
        }
      },
      "outputs": [],
      "source": [
        "assert abs(multinomial_likelihood(probs={'a': 0.2, 'b': 0.5, 'c': 0.3},\n",
        "                    freqs={'a': 2, 'b': 1, 'c': 2}) - 0.054) < 0.000001\n",
        "assert abs(multinomial_likelihood(probs={'a': 0.2, 'b': 0.1, 'c': 0.3, 'd': 0.4},\n",
        "                    freqs={'a': 2, 'b': 1, 'c': 2}) - 0.0108) < 0.000001"
      ]
    },
    {
      "cell_type": "markdown",
      "metadata": {
        "id": "8csAFr_YonHu"
      },
      "source": [
        "Note that the coefficient with factorials depends only on `freqs` (i.e. text that we analyse) and does not depend on `probs`. It means that for all possible languages this coefficient will be the same. As we are going to consider fixed text and compare likelihoods for different languages, we see, that we do not need this coefficient in most of cases. Let us implement function `multinomial_likelihood_without_coeff` that returns the same probability as `multinomial_likelihood` but without coefficient."
      ]
    },
    {
      "cell_type": "code",
      "execution_count": 13,
      "metadata": {
        "id": "CzH6sstIonHu",
        "nbgrader": {
          "grade": false,
          "grade_id": "cell-99bfc1e01b6b804e",
          "locked": false,
          "schema_version": 3,
          "solution": true,
          "task": false
        }
      },
      "outputs": [],
      "source": [
        "### BEGIN SOLUTION\n",
        "def multinomial_likelihood_without_coeff(probs, freqs):\n",
        "    p = 1\n",
        "    for c in freqs:\n",
        "        p *= np.power(probs[c], freqs[c])\n",
        "    return p\n",
        "### END SOLUTION"
      ]
    },
    {
      "cell_type": "markdown",
      "metadata": {
        "id": "pH5vtbPhonHu"
      },
      "source": [
        "Corresponding probability become smaller:"
      ]
    },
    {
      "cell_type": "code",
      "execution_count": 14,
      "metadata": {
        "id": "RVn4twczonHv",
        "nbgrader": {
          "grade": true,
          "grade_id": "cell-3de0433027c5af68",
          "locked": true,
          "points": 1,
          "schema_version": 3,
          "solution": false,
          "task": false
        }
      },
      "outputs": [],
      "source": [
        "assert multinomial_likelihood_without_coeff(\n",
        "    probs={'a': 0.3, 'b': 0.4, 'c': 0.3},\n",
        "    freqs={'a': 2, 'b': 1, 'c': 2}) == 0.00324\n",
        "assert abs(multinomial_likelihood_without_coeff(\n",
        "    probs={'a': 0.3, 'b': 0.4, 'c': 0.3},\n",
        "    freqs={'a': 2, 'b': 1, 'c': 5}) - 8.747999999999e-05) < 1e-10"
      ]
    },
    {
      "cell_type": "markdown",
      "metadata": {
        "id": "-j68-jIAonHv"
      },
      "source": [
        "Actually, likelihoods become extremely small very quickly when we increase absolute frequencies in data. It is not surprisingly: the probability to get the text that coincides with our actual text from random experiment we discussed is extremely small."
      ]
    },
    {
      "cell_type": "code",
      "execution_count": 15,
      "metadata": {
        "id": "8nSWUd2fonHv",
        "outputId": "048ad04b-92d4-441e-9e55-e51579afe1b0"
      },
      "outputs": [
        {
          "data": {
            "text/plain": [
              "6.866455078125001e-10"
            ]
          },
          "execution_count": 15,
          "metadata": {},
          "output_type": "execute_result"
        }
      ],
      "source": [
        "multinomial_likelihood_without_coeff(probs={'a': 0.2, 'b': 0.5, 'c': 0.3},\n",
        "                    freqs={'a': 3, 'b': 20, 'c': 2})"
      ]
    },
    {
      "cell_type": "markdown",
      "metadata": {
        "id": "9i57kmLponHv"
      },
      "source": [
        "Due to limited precision of computer arithmetic, for frequencies large enough we will get exactly zero likelihood."
      ]
    },
    {
      "cell_type": "code",
      "execution_count": 16,
      "metadata": {
        "id": "cWeiFPtvonHv",
        "outputId": "09f518fc-17b4-44b1-9860-375fbe9a43ed"
      },
      "outputs": [
        {
          "data": {
            "text/plain": [
              "0.0"
            ]
          },
          "execution_count": 16,
          "metadata": {},
          "output_type": "execute_result"
        }
      ],
      "source": [
        "multinomial_likelihood_without_coeff(probs={'a': 0.2, 'b': 0.5, 'c': 0.3},\n",
        "                                     freqs={'a': 543, 'b': 512, 'c': 2})"
      ]
    },
    {
      "cell_type": "markdown",
      "metadata": {
        "id": "NzglPanqonHw"
      },
      "source": [
        "Thus we usually cannot use likelihoods like this directly. Common way to deal with such a tiny numbers is to use _logarithms_ instead of likelihood themself. Indeed, logarithm is monotonically increasing function. If we compare logarithms, it is equivalent to compare their arguments.\n",
        "\n",
        "### Log likelihood\n",
        "Implement function `log_likelihood_without_coeff(probs, freqs)` that calculates logarithm of likelihood (without factorial coefficient). Note that you cannot simply put `multinomial_likelihood_without_coeff` into `log`: if the likelihood would be extremely small (equal to zero from computer's point of view), `log` of it will be negative infinity. Thus we have to algebraically transform the expression for log likelihood first. Let us use properties of logarithm to do it: $\\log (ab) = \\log a + \\log b$, $\\log (a^b)=b\\log a$."
      ]
    },
    {
      "cell_type": "code",
      "execution_count": 17,
      "metadata": {
        "id": "DjeFHu8MonHw",
        "nbgrader": {
          "grade": false,
          "grade_id": "cell-c6283b47bbcf5b95",
          "locked": false,
          "schema_version": 3,
          "solution": true,
          "task": false
        }
      },
      "outputs": [],
      "source": [
        "### BEGIN SOLUTION\n",
        "import numpy as np\n",
        "def log_likelihood_without_coeff(probs, freqs):\n",
        "    p = 0\n",
        "    for c in freqs:\n",
        "        p += freqs[c] * np.log(probs[c])\n",
        "    return p\n",
        "### END SOLUTION"
      ]
    },
    {
      "cell_type": "markdown",
      "metadata": {
        "id": "JQyt3Yu9onHw"
      },
      "source": [
        "Likelihoods are probabilities, so they are less than 1 and their logarithms are negative. The larger absolute value of log-likelihood, the less is likelihood. "
      ]
    },
    {
      "cell_type": "code",
      "execution_count": 18,
      "metadata": {
        "id": "5bS5HxvponHw",
        "outputId": "fb5f1e01-e573-42e7-ef86-22ea0722b9fc"
      },
      "outputs": [
        {
          "data": {
            "text/plain": [
              "-6.319968614080018"
            ]
          },
          "execution_count": 18,
          "metadata": {},
          "output_type": "execute_result"
        }
      ],
      "source": [
        "log_likelihood_without_coeff(probs={'a': 0.2, 'b': 0.5, 'c': 0.3},\n",
        "                             freqs={'a': 2, 'b': 1, 'c': 2})"
      ]
    },
    {
      "cell_type": "markdown",
      "metadata": {
        "id": "L1E5IspSonHw"
      },
      "source": [
        "Now we can deal with inputs that lead to exact zero value previously."
      ]
    },
    {
      "cell_type": "code",
      "execution_count": 19,
      "metadata": {
        "id": "iToxFlQxonHw",
        "outputId": "97fefa05-e2f4-4e7d-a897-205fe2768eb4"
      },
      "outputs": [
        {
          "data": {
            "text/plain": [
              "-1231.2240885070605"
            ]
          },
          "execution_count": 19,
          "metadata": {},
          "output_type": "execute_result"
        }
      ],
      "source": [
        "log_likelihood_without_coeff(probs={'a': 0.2, 'b': 0.5, 'c': 0.3},\n",
        "                             freqs={'a': 543, 'b': 512, 'c': 2})"
      ]
    },
    {
      "cell_type": "code",
      "execution_count": 20,
      "metadata": {
        "id": "6yjncsWSonHx",
        "nbgrader": {
          "grade": true,
          "grade_id": "cell-38d4478fc7c1656b",
          "locked": true,
          "points": 2,
          "schema_version": 3,
          "solution": false,
          "task": false
        }
      },
      "outputs": [],
      "source": [
        "assert abs(log_likelihood_without_coeff(probs={'a': 0.2, 'b': 0.5, 'c': 0.3},\n",
        "                              freqs={'a': 2, 'b': 1, 'c': 2}) + 6.319968614080018) < 0.00001\n",
        "assert abs(log_likelihood_without_coeff(probs={'a': 0.2, 'b': 0.5, 'c': 0.3},\n",
        "                             freqs={'a': 543, 'b': 512, 'c': 2}) + 1231.2240885070605) < 0.0001\n",
        "assert abs(log_likelihood_without_coeff(probs={'a': 0.2, 'b': 0.5, 'c': 0.3},\n",
        "                             freqs={'a': 543, 'b': 512}) + 1228.8161428984085) < 0.0001"
      ]
    },
    {
      "cell_type": "markdown",
      "metadata": {
        "id": "36qOaUfbonHx"
      },
      "source": [
        "### Theoretical question: cross-entropy and Jensen's inequality"
      ]
    },
    {
      "attachments": {},
      "cell_type": "markdown",
      "metadata": {
        "id": "Mq0kYJJUonHx"
      },
      "source": [
        "The function that you obtained is also know as *cross entropy* and is extremely popular in machine learning, namely, in classification problems. It allows you to measure how good probability distribution $(p_1, \\ldots, p_k)$ fits to actual absolute frequencies obtained from the data $(f_1, \\ldots, f_k)$.\n",
        "\n",
        "Assume that frequencies $(f_1, \\ldots, f_k)$ are fixed. What is the best distribution $(p_1, \\ldots, p_k)$ from likelihood's perspective?\n",
        "\n",
        "Intuitively, it seems that we have to put relative frequencies\n",
        "$$r_i = \\frac{f_i}{\\sum_{j=1}^k f_j}$$ \n",
        "as $p_i$ to get best fit. In fact, it is true. To prove it, let us use Jensen's inequality for logarithms. It is stated as follows:\n",
        "\n",
        "For any values $\\alpha_1, \\ldots, \\alpha_k$, such that $\\sum_{j=1}^k \\alpha_j = 1$ and $\\alpha_j \\ge 0$ for all $j=1, \\ldots, k$, and any positive values $x_1, \\ldots, x_k$, the following inequality holds:\n",
        "\n",
        "$$\\log \\sum_{j=1}^k \\alpha_j x_j \\ge \\sum_{j=1}^k \\alpha_j\\log(x_j).$$\n",
        "\n",
        "Use this inequality to prove that\n",
        "$$\\sum_{j=1}^k r_j \\log p_j - \\sum_{j=1}^k r_j \\log r_j \\le 0,$$\n",
        "then prove that to obtain maximum log-likelihood (and therefore maximum likelihood) for fixed $(f_1, \\ldots, f_k)$ we have to put $p_i=r_i$, $i=1,\\ldots, k$.\n",
        "**Hint:** use properties of logarithm to transform left-hand part of the last inequality to right-rand part of the previous inequality.\n"
      ]
    },
    {
      "attachments": {},
      "cell_type": "markdown",
      "metadata": {},
      "source": [
        "## Proof: \n",
        "\n",
        "`1.1 We need to prove that`\n",
        "$\\sum_{j=1}^k r_j \\log p_j - \\sum_{j=1}^k r_j \\log r_j \\le 0$, which, by properties of the logarithm, can be re-written as:\n",
        "\n",
        "$\\sum_{j=1}^k r_j \\log \\frac{p_j}{r_j} \\le 0 \\implies$ we can use Jensen's inequality to prove that the left-hand side of the inequality is less than or equal to $0$\n",
        "\n",
        "$\\implies \\sum_{j=1}^k r_j \\log \\frac{p_j}{r_j} \\leq \\log \\sum_{j=1}^k \\frac{r_j \\cdot p_j}{r_j}$, where the right side can be simplified to the logarithm of the sum of all probabilities, which must be equal to $1$.\n",
        "\n",
        "$\\implies \\log(1) = 0$\n",
        "\n",
        "$\\therefore \\sum_{j=1}^k r_j \\log \\frac{p_j}{r_j} \\leq 0$ $\\blacksquare$\n",
        "\n",
        "`1.2 Prove that to obtain maximum log-likelihood (and therefore maximum likelihood) for fixed` $(f_1, \\ldots, f_k)$ we have to put $p_i=r_i$, $i=1,\\ldots, k$.\n",
        "\n",
        "Given the proof above, it can be deduced that the maximal likelihood is 0, which is satisfied only when $\\frac{p_j}{r_j} = 1$. \n",
        "\n",
        "$\\implies \\max (\\sum_{j=1}^k r_j \\log \\frac{p_j}{r_j}) = 0 \\iff \\frac{p_j}{r_j} = 1 \\therefore p_j = r_j$ $\\blacksquare$\n"
      ]
    },
    {
      "cell_type": "markdown",
      "metadata": {
        "id": "TSyyRqBnonHx"
      },
      "source": [
        "### Maximum likelihood classifier"
      ]
    },
    {
      "cell_type": "markdown",
      "metadata": {
        "id": "wl0iOhJPonHx"
      },
      "source": [
        "Now we will use likelihood to choose the best language for some text we want to classify. Write function `mle_best(text, lang_to_probs)` that takes some `text` and dictionary `lang_to_probs` that we created previously and returns the name of language such that likelihood of our data for this language is maximal. Note that you have to preprocess  `text` using function `clean_text` before finding frequencies."
      ]
    },
    {
      "cell_type": "code",
      "execution_count": 21,
      "metadata": {
        "id": "dM8wxxcRonHx",
        "nbgrader": {
          "grade": false,
          "grade_id": "cell-761e62cc0f17dc2d",
          "locked": false,
          "schema_version": 3,
          "solution": true,
          "task": false
        }
      },
      "outputs": [],
      "source": [
        "### BEGIN SOLUTION\n",
        "def mle_best(text, lang_to_probs):\n",
        "    text = clean_text(text)\n",
        "    freqs = get_freqs(text)\n",
        "    guessed_lang = None\n",
        "    highest_p = 0\n",
        "    \n",
        "    for lang in lang_to_probs:\n",
        "        challenger_p = multinomial_likelihood_without_coeff(lang_to_probs[lang], freqs)\n",
        "        if challenger_p > highest_p:\n",
        "            guessed_lang = lang\n",
        "            highest_p = challenger_p\n",
        "    return guessed_lang\n",
        "### END SOLUTION"
      ]
    },
    {
      "cell_type": "markdown",
      "metadata": {
        "id": "2X5BY3K9onHx"
      },
      "source": [
        "Let's test it!"
      ]
    },
    {
      "cell_type": "code",
      "execution_count": 22,
      "metadata": {},
      "outputs": [
        {
          "data": {
            "text/plain": [
              "'English'"
            ]
          },
          "execution_count": 22,
          "metadata": {},
          "output_type": "execute_result"
        }
      ],
      "source": [
        "# Source: https://en.wikipedia.org/wiki/1134_Kepler\n",
        "text = \"\"\"1134 Kepler, provisional designation 1929 SA, is a stony asteroid \n",
        "and eccentric Mars-crosser from the asteroid belt, approximately \n",
        "4 kilometers in diameter\"\"\"\n",
        "mle_best(text, lang_to_probs)"
      ]
    },
    {
      "cell_type": "code",
      "execution_count": 23,
      "metadata": {
        "id": "zcIgYjYEonHx",
        "outputId": "18de8347-52a5-42bb-98dc-a91c20298e3f"
      },
      "outputs": [
        {
          "data": {
            "text/plain": [
              "'English'"
            ]
          },
          "execution_count": 23,
          "metadata": {},
          "output_type": "execute_result"
        }
      ],
      "source": [
        "# Source: https://en.wikipedia.org/wiki/1134_Kepler\n",
        "text = \"\"\"1134 Kepler, provisional designation 1929 SA, is a stony asteroid \n",
        "and eccentric Mars-crosser from the asteroid belt, approximately \n",
        "4 kilometers in diameter\"\"\"\n",
        "mle_best(text, lang_to_probs)"
      ]
    },
    {
      "cell_type": "code",
      "execution_count": 24,
      "metadata": {
        "id": "eebo3vi7onHy",
        "outputId": "4be101bc-9ac4-4bf6-c205-c356bafb2e88"
      },
      "outputs": [
        {
          "data": {
            "text/plain": [
              "'Polish'"
            ]
          },
          "execution_count": 24,
          "metadata": {},
          "output_type": "execute_result"
        }
      ],
      "source": [
        "# Source: https://pl.wikipedia.org/wiki/(1134)_Kepler\n",
        "text = \"\"\"\"(1134) Kepler – planetoida z grupy przecinających \n",
        "orbitę Marsa okrążająca Słońce w ciągu 4 lat i 145 dni \n",
        "w średniej odległości 2,68 au.\n",
        "\"\"\"\n",
        "mle_best(text, lang_to_probs)"
      ]
    },
    {
      "cell_type": "code",
      "execution_count": 25,
      "metadata": {
        "id": "z5-vM4T5onHy",
        "outputId": "717d4028-90f9-4ce6-dedf-c6f17c9bb7df"
      },
      "outputs": [
        {
          "data": {
            "text/plain": [
              "'Italian'"
            ]
          },
          "execution_count": 25,
          "metadata": {},
          "output_type": "execute_result"
        }
      ],
      "source": [
        "# Source: https://it.wikipedia.org/wiki/1134_Kepler\n",
        "text = \"\"\"1134 Kepler è un asteroide areosecante. Scoperto nel 1929, \n",
        "presenta un'orbita caratterizzata da un semiasse maggiore pari a 2,6829098 \n",
        "UA e da un'eccentricità di 0,4651458, inclinata di 15,17381° rispetto\n",
        "\"\"\"\n",
        "mle_best(text, lang_to_probs)"
      ]
    },
    {
      "cell_type": "code",
      "execution_count": 26,
      "metadata": {
        "id": "2_0M8_p8onHy",
        "nbgrader": {
          "grade": true,
          "grade_id": "cell-b83cf8d4bcee2ab1",
          "locked": true,
          "points": 2,
          "schema_version": 3,
          "solution": false,
          "task": false
        }
      },
      "outputs": [],
      "source": [
        "lines = ['Aaa', 'Aa', 'Kepler è un asteroide areosecante. Scoperto nel',\n",
        "        \"presenta un'orbita caratterizzata da un semiasse maggiore pari a 2,6829098 \"\n",
        "         \"UA e da un'eccentricità di 0,4651458, inclinata\",\n",
        "         \"Kepler – planetoida z grupy przecinających orbitę Marsa okrążająca Słońce w ciągu 4 lat i \",\n",
        "         \"Kepler, provisional designation 1929 SA, is a stony asteroid \"\n",
        "         \"and eccentric Mars-crosser from the\"]\n",
        "assert mle_best(lines[0], lang_to_probs) == 'Portuguese'\n",
        "assert mle_best(lines[1], lang_to_probs) == 'Portuguese'\n",
        "assert mle_best(lines[2], lang_to_probs) == 'French'\n",
        "assert mle_best(lines[3], lang_to_probs) == 'Italian'\n",
        "assert mle_best(lines[4], lang_to_probs) == 'Polish'\n",
        "assert mle_best(lines[5], lang_to_probs) == 'English'\n",
        "assert mle_best(\"Aaaa\", lang_to_probs) == \"Portuguese\""
      ]
    },
    {
      "cell_type": "markdown",
      "metadata": {
        "id": "k7dyK3uJonHy"
      },
      "source": [
        "### Look, it works!\n",
        "Fantastic! Just a couple of equations, and we created fully automatic language detection algorithm!\n",
        "\n",
        "Now let us make it even better."
      ]
    },
    {
      "cell_type": "markdown",
      "metadata": {
        "id": "xYWQTULZonHy"
      },
      "source": [
        "### Let's go Bayes\n",
        "Assume that we selected random article from all Wikipedia articles in languages that we consider. There are different number of articles in different languages, so it is more likely to obtain article e.g. in English than in Polish (at least, at this moment). It means that we need stronger evidence for Polish to accept it comparing with English. To take into account this information, we will use Bayes' rule as discussed in the videos.\n",
        "\n",
        "Recall that in Bayessian approach we consider _prior_ probabilities of languages, then use Bayes' rule to find their posterior probabilies and select language with largest posterior probability. We begin with finding prior probabilities. Create a dictionary `lang_to_prior` which keys are language names and values are prior probabilities. Assume that priors are prortional to number of articles in each language (in thousands). Let us use these numbers (in thousands): English: 6090, Italian: 1611, Spanish: 1602, German: 2439, French: 2222, Polish: 1412, Portuguese: 1034. Remember that all prior probabilities should sum up to 1!"
      ]
    },
    {
      "cell_type": "code",
      "execution_count": 27,
      "metadata": {},
      "outputs": [],
      "source": [
        "### BEGIN SOLUTION\n",
        "lang_to_prior = {\n",
        "    'English': 6090,\n",
        "    'Italian': 1611,\n",
        "    'Spanish': 1602,\n",
        "    'German': 2439,\n",
        "    'French': 2222,\n",
        "    'Polish': 1412,\n",
        "    'Portuguese': 1034}\n",
        "\n",
        "total = sum(lang_to_prior.values())\n",
        "\n",
        "for lang in lang_to_prior:\n",
        "    lang_to_prior[lang] /= total\n",
        "### END SOLUTION\n"
      ]
    },
    {
      "cell_type": "code",
      "execution_count": 28,
      "metadata": {
        "id": "o4QVmRdzonHz",
        "nbgrader": {
          "grade": true,
          "grade_id": "cell-19765ecb964a7f7f",
          "locked": true,
          "points": 1,
          "schema_version": 3,
          "solution": false,
          "task": false
        }
      },
      "outputs": [],
      "source": [
        "assert abs(lang_to_prior['French'] - 0.13540524070688603) < 0.000001"
      ]
    },
    {
      "cell_type": "markdown",
      "metadata": {
        "id": "CXhgYKFJonHz"
      },
      "source": [
        "Now implement function `bayesian_best(text, lang_to_probs, lang_to_prior)` that takes some text `text`, dictionary `lang_to_probs` created before and `lang_to_prior` with prior probabilities. This function have to return language name with largest posterior probability. Note that as we only compare posterior probabilities, we can ignore the denominator in Bayes' rule: it is the same for all languages. Note also that we need to work with logarithms of posterior instead of posteriors themself to avoid extremely small numbers. Use properties of logarithm to do it effeciently."
      ]
    },
    {
      "cell_type": "code",
      "execution_count": 29,
      "metadata": {
        "id": "A7AFgrY9onHz",
        "nbgrader": {
          "grade": false,
          "grade_id": "cell-1725db02a8cb77ad",
          "locked": false,
          "schema_version": 3,
          "solution": true,
          "task": false
        }
      },
      "outputs": [],
      "source": [
        "### BEGIN SOLUTION\n",
        "def bayesian_best(text, lang_to_probs, lang_to_prior):\n",
        "    text = clean_text(text)\n",
        "    freqs = get_freqs(text)\n",
        "    guessed_lang = None\n",
        "    highest_p = 0\n",
        "    for lang in lang_to_probs:\n",
        "        challenger_p = multinomial_likelihood_without_coeff(lang_to_probs[lang], freqs)\n",
        "        challenger_p *= lang_to_prior[lang]\n",
        "        if challenger_p > highest_p:\n",
        "            guessed_lang = lang\n",
        "            highest_p = challenger_p\n",
        "    return guessed_lang\n",
        "### END SOLUTION"
      ]
    },
    {
      "cell_type": "markdown",
      "metadata": {
        "id": "Ro9QObUJonHz"
      },
      "source": [
        "For example, MLE algorithm believes that word `\"The\"` belongs go German language."
      ]
    },
    {
      "cell_type": "code",
      "execution_count": 30,
      "metadata": {
        "colab": {
          "base_uri": "https://localhost:8080/",
          "height": 166
        },
        "id": "N6_gz6rbonHz",
        "outputId": "fd04fd11-d1b3-4416-b6d3-7697c6f71408"
      },
      "outputs": [
        {
          "data": {
            "text/plain": [
              "'German'"
            ]
          },
          "execution_count": 30,
          "metadata": {},
          "output_type": "execute_result"
        }
      ],
      "source": [
        "mle_best(\"The\", lang_to_probs)"
      ]
    },
    {
      "cell_type": "markdown",
      "metadata": {
        "id": "YCH74x-GonHz"
      },
      "source": [
        "However, if we take into account that English is more popular in Wikipdia, results changes:"
      ]
    },
    {
      "cell_type": "code",
      "execution_count": 31,
      "metadata": {
        "id": "v8LfC6ToonHz"
      },
      "outputs": [
        {
          "data": {
            "text/plain": [
              "'English'"
            ]
          },
          "execution_count": 31,
          "metadata": {},
          "output_type": "execute_result"
        }
      ],
      "source": [
        "bayesian_best(\"The\", lang_to_probs, lang_to_prior)"
      ]
    },
    {
      "cell_type": "code",
      "execution_count": 32,
      "metadata": {
        "id": "KvlT6sBConHz",
        "nbgrader": {
          "grade": true,
          "grade_id": "cell-d6b6b54026f24fb0",
          "locked": true,
          "points": 2,
          "schema_version": 3,
          "solution": false,
          "task": false
        }
      },
      "outputs": [],
      "source": [
        "lines = ['Aaa', 'Aa', 'Kepler è un asteroide areosecante. Scoperto nel',\n",
        "        \"presenta un'orbita caratterizzata da un semiasse maggiore pari a 2,6829098 \"\n",
        "         \"UA e da un'eccentricità di 0,4651458, inclinata\",\n",
        "         \"Kepler – planetoida z grupy przecinających orbitę Marsa okrążająca Słońce w ciągu 4 lat i \",\n",
        "         \"Kepler, provisional designation 1929 SA, is a stony asteroid \"\n",
        "         \"and eccentric Mars-crosser from the\"]\n",
        "answers = ['English', 'English', 'French', 'Italian', 'Polish', 'English']\n",
        "for line, answer in zip(lines, answers):\n",
        "    assert bayesian_best(line, lang_to_probs, lang_to_prior) == answer"
      ]
    },
    {
      "cell_type": "markdown",
      "metadata": {
        "id": "t9RMCkxfonH0"
      },
      "source": [
        "### Measuring uncertainty\n",
        "Finally, let us get posterior probability how certain our Bayesian algorithm in its classification. Implement function `bayesian_posterior(text, lang_to_probs, lang_to_prior, test_lang)` that takes some `text`, `lang_to_probs`, `lang_to_prior` and a particular language `test_lang` we are interested in and returns posterior probability for this language provided this text. Use formula for the posterior from the videos.\n",
        "\n",
        "Note that in this case you have to work with actual probabilites (likelihoods), not their logarithms."
      ]
    },
    {
      "cell_type": "code",
      "execution_count": 33,
      "metadata": {
        "id": "c0epuiy4onH0",
        "nbgrader": {
          "grade": false,
          "grade_id": "cell-8705f891f8eff4f7",
          "locked": false,
          "schema_version": 3,
          "solution": true,
          "task": false
        }
      },
      "outputs": [],
      "source": [
        "### BEGIN SOLUTIONS\n",
        "def bayesian_posterior(text, lang_to_probs, lang_to_prior, test_lang):\n",
        "    text = clean_text(text)\n",
        "    freqs = get_freqs(text)\n",
        "    test_lang_p = multinomial_likelihood_without_coeff(lang_to_probs[test_lang], freqs)\n",
        "    test_lang_p *= lang_to_prior[test_lang]\n",
        "    p = 0\n",
        "    \n",
        "    for lang in lang_to_probs:\n",
        "        challenger_p = multinomial_likelihood_without_coeff(lang_to_probs[lang], freqs)\n",
        "        challenger_p *= lang_to_prior[lang]\n",
        "        p += challenger_p\n",
        "    return test_lang_p / p\n",
        "### END SOLUTIONS"
      ]
    },
    {
      "cell_type": "code",
      "execution_count": 34,
      "metadata": {
        "id": "mAOwAYnponH0",
        "outputId": "8502a5c0-1610-467b-9545-d91ce1c9779c"
      },
      "outputs": [
        {
          "data": {
            "text/plain": [
              "0.2686381464045339"
            ]
          },
          "execution_count": 34,
          "metadata": {},
          "output_type": "execute_result"
        }
      ],
      "source": [
        "bayesian_posterior(\"The\", lang_to_probs, lang_to_prior, \"German\")"
      ]
    },
    {
      "cell_type": "code",
      "execution_count": 35,
      "metadata": {
        "id": "sUVZPTiPonH0",
        "outputId": "703c7d81-817c-479d-f8ec-358688a8deeb"
      },
      "outputs": [
        {
          "data": {
            "text/plain": [
              "0.534626604689872"
            ]
          },
          "execution_count": 35,
          "metadata": {},
          "output_type": "execute_result"
        }
      ],
      "source": [
        "bayesian_posterior(\"The\", lang_to_probs, lang_to_prior, \"English\")"
      ]
    },
    {
      "cell_type": "code",
      "execution_count": 36,
      "metadata": {
        "id": "NdIeqtygonH0",
        "outputId": "b73f8a5e-1a84-43eb-fffc-b19bb9146fa3"
      },
      "outputs": [
        {
          "data": {
            "text/plain": [
              "0.36596793151737517"
            ]
          },
          "execution_count": 36,
          "metadata": {},
          "output_type": "execute_result"
        }
      ],
      "source": [
        "bayesian_posterior(\"Das\", lang_to_probs, lang_to_prior, \"English\")"
      ]
    },
    {
      "cell_type": "code",
      "execution_count": 37,
      "metadata": {
        "id": "pm21A6zvonH0",
        "outputId": "07633b01-904b-4598-a7a4-6c3a74f73402"
      },
      "outputs": [
        {
          "data": {
            "text/plain": [
              "0.12095519926831602"
            ]
          },
          "execution_count": 37,
          "metadata": {},
          "output_type": "execute_result"
        }
      ],
      "source": [
        "bayesian_posterior(\"Das\", lang_to_probs, lang_to_prior, \"German\")"
      ]
    },
    {
      "cell_type": "code",
      "execution_count": 38,
      "metadata": {
        "id": "fsuKSxNmonH0",
        "nbgrader": {
          "grade": true,
          "grade_id": "cell-23ecc58928d8d618",
          "locked": true,
          "points": 2,
          "schema_version": 3,
          "solution": false,
          "task": false
        }
      },
      "outputs": [],
      "source": [
        "assert abs(bayesian_posterior(\"The\", lang_to_probs, lang_to_prior, \"German\") - 0.26863814640) < 0.00001\n",
        "assert abs(bayesian_posterior(\"The\", lang_to_probs, lang_to_prior, \"English\") - 0.534626604) < 0.00001\n",
        "assert abs(bayesian_posterior(\"Das\", lang_to_probs, lang_to_prior, \"English\") - 0.365967931517) < 0.00001"
      ]
    },
    {
      "cell_type": "code",
      "execution_count": 39,
      "metadata": {},
      "outputs": [
        {
          "name": "stdout",
          "output_type": "stream",
          "text": [
            "Language guessed by the maximum likelihood classifier: German\n",
            "\n",
            "Language guessed by the Bayesian clasifier: English\n",
            "\n",
            "Probability of the language to be English: 0.58\n",
            "Probability of the language to be Italian: 0.02\n",
            "Probability of the language to be Spanish: 0.00\n",
            "Probability of the language to be German: 0.36\n",
            "Probability of the language to be French: 0.04\n",
            "Probability of the language to be Polish: 0.00\n",
            "Probability of the language to be Portuguese: 0.00\n"
          ]
        }
      ],
      "source": [
        "# my own testing of the german language :)\n",
        "it = 'Dieser Klassifikator ist Sheiße'\n",
        "\n",
        "print(f\"Language guessed by the maximum likelihood classifier: {mle_best(it, lang_to_probs)}\\n\")\n",
        "print(f\"Language guessed by the Bayesian clasifier: {bayesian_best(it, lang_to_probs, lang_to_prior)}\\n\")\n",
        "\n",
        "for lang in LANGUAGES:\n",
        "    print(f\"Probability of the language to be {lang}: {bayesian_posterior(it, lang_to_probs, lang_to_prior, lang):.2f}\")"
      ]
    },
    {
      "cell_type": "markdown",
      "metadata": {
        "id": "_NY-Bm5lonH0"
      },
      "source": [
        "We see that our algorithm believes that `\"Das\"` belongs to English. This is due to small amount of data (only three letters!) and high prior for English. However, it is not very certain: the posterior is only 0.37. On the other hand, `\"The\"` belongs to `\"English\"` with much larger posterior probability."
      ]
    },
    {
      "cell_type": "markdown",
      "metadata": {
        "id": "Kiewa34NonH0"
      },
      "source": [
        "## Conclusions\n",
        "Today we used our knowledge of probability to construct our own classifier algorithm. Actually, it is a version of well-known naive Bayesian classifier. Of course, this classifier is far from perfect: for example, it completely ignores words and deal only with characters and their frequencies. Nevertheless, it works rather good despite being so simple. Also it shows several important concepts: likelihood, maximum likelihood estimation, Bayesian estimations and so on.\n",
        "\n",
        "Now you are ready for more sophisticated topics."
      ]
    },
    {
      "cell_type": "markdown",
      "metadata": {
        "id": "Ovy3GARjonH0"
      },
      "source": [
        "### P.S. Efficiency considerations\n",
        "During this project we used dictionaries to represent frequency tables and pure Python constructions like loops to process them. However, it is much more effecient to use `numpy` arrays and vectorized functions. You can try to redo this project with `numpy` if you know how to use it. If you don't know yet, that's not a problem: you will learn it soon."
      ]
    }
  ],
  "metadata": {
    "celltoolbar": "Create Assignment",
    "colab": {
      "provenance": []
    },
    "kernelspec": {
      "display_name": "Python 3",
      "language": "python",
      "name": "python3"
    },
    "language_info": {
      "codemirror_mode": {
        "name": "ipython",
        "version": 3
      },
      "file_extension": ".py",
      "mimetype": "text/x-python",
      "name": "python",
      "nbconvert_exporter": "python",
      "pygments_lexer": "ipython3",
      "version": "3.9.12"
    }
  },
  "nbformat": 4,
  "nbformat_minor": 0
}
