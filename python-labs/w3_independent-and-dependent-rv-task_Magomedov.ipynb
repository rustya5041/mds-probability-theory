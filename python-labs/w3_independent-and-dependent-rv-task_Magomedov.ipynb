{
 "cells": [
  {
   "cell_type": "markdown",
   "metadata": {},
   "source": [
    "# Probability\n",
    "## Generating independent and dependent random variables\n",
    "In this assignment we will discuss how to generate independent random variables in Python to understand these notions deeper. This assignment is partly automatically graded (PMF calculations) and partly peer review graded. Please download ipynb file and submit to peer review grading (in corresponding course element).\n",
    "\n",
    "### Preliminaries\n",
    "We need this function to test our generators."
   ]
  },
  {
   "cell_type": "code",
   "execution_count": 1,
   "metadata": {},
   "outputs": [],
   "source": [
    "def count_frequencies(data, relative=False):\n",
    "    counter = {}\n",
    "    for element in data:\n",
    "        if element not in counter:\n",
    "            counter[element] = 1\n",
    "        else:\n",
    "            counter[element] += 1\n",
    "    if relative:\n",
    "        for element in counter:\n",
    "            counter[element] /= len(data)\n",
    "    return counter"
   ]
  },
  {
   "cell_type": "markdown",
   "metadata": {},
   "source": [
    "### Independent random variables: PMF calculation\n",
    "Consider random variables $X$ and $Y$. Assume that $X$ takes values $x_1, \\ldots, x_n$ with probabilities $p_1, \\ldots, p_n$ and $Y$ takes values $y_1, \\ldots, y_m$ with probabilities $q_1, \\ldots, q_m$. Assume that $X$ and $Y$ are independent. Implement function `joint_pmf(xvalues, xprobs, yvalues, yprobs)` that takes an array of values $x_1, \\ldots, x_n$ as `xvalues`, an array of probabilities $p_1, \\ldots, p_n$ as  `xprobs` and the same with `yvalues` and `yprobs`. The function should return a dictionary which keys are tuples `(x, y)` where `x` is some value $x_i$ and `y` is $y_j$ and corresponding values are values of joint probability mass function $pmf_{X, Y}(x_i, y_j)$."
   ]
  },
  {
   "cell_type": "code",
   "execution_count": 41,
   "metadata": {
    "nbgrader": {
     "grade": false,
     "grade_id": "cell-6c6fca4963fa838f",
     "locked": false,
     "schema_version": 3,
     "solution": true,
     "task": false
    }
   },
   "outputs": [],
   "source": [
    "def joint_pmf(xvalues, xprobs, yvalues, yprobs):\n",
    "    joint = {}\n",
    "\n",
    "    for xval, xprob in zip(xvalues, xprobs):\n",
    "        for yval, yprob in zip(yvalues, yprobs):\n",
    "            joint[(xval, yval)] = xprob * yprob\n",
    "            \n",
    "    return joint"
   ]
  },
  {
   "cell_type": "code",
   "execution_count": 16,
   "metadata": {
    "nbgrader": {
     "grade": true,
     "grade_id": "cell-c10c718141f0f314",
     "locked": true,
     "points": 1,
     "schema_version": 3,
     "solution": false,
     "task": false
    }
   },
   "outputs": [],
   "source": [
    "testdata = [([1], [1], [2, 3], [0.2, 0.8]),\n",
    "            ([1, 2], [0.5, 0.5], [3, 4, 5], [0.3, 0.3, 0.4])]\n",
    "answers = [{(1, 2): 0.2, (1, 3): 0.8},\n",
    "           {(1, 3): 0.15,\n",
    "            (1, 4): 0.15,\n",
    "            (1, 5): 0.2,\n",
    "            (2, 3): 0.15,\n",
    "            (2, 4): 0.15,\n",
    "            (2, 5): 0.2}]\n",
    "for data, answer in zip(testdata, answers):\n",
    "    assert joint_pmf(*data) == answer"
   ]
  },
  {
   "cell_type": "markdown",
   "metadata": {},
   "source": [
    "### Independent random variables: generation\n",
    "Implement function `indep_choice(xvalues, xprobs, yvalues, yprobs)` that samples value `x` from random variable $X$ (here `xvalues` is an array of values $x_1, \\ldots, x_n$ and `xprobs` is an array of probabilities $p_1, \\ldots, p_n$) and value `y` from random variable $Y$ (here `yvalues` is an array of values $y_1, \\ldots, y_m$ and `yprobs` is an array of probabilities $q_1, \\ldots, q_m$) and returns a tuple `(x, y)`. Use `numpy.choice` in each case. "
   ]
  },
  {
   "cell_type": "code",
   "execution_count": 17,
   "metadata": {
    "nbgrader": {
     "grade": false,
     "grade_id": "cell-0f42fad3354a3723",
     "locked": false,
     "schema_version": 3,
     "solution": true,
     "task": false
    }
   },
   "outputs": [],
   "source": [
    "from numpy.random import choice\n",
    "\n",
    "def indep_choice(xvalues, xprobs, yvalues, yprobs):\n",
    "    x = choice(xvalues, p=xprobs)\n",
    "    y = choice(yvalues, p=yprobs)\n",
    "    return (x, y)"
   ]
  },
  {
   "cell_type": "markdown",
   "metadata": {},
   "source": [
    "Now let us generate a large sample of these values and compare relative frequencies of each combination with corresponding value of PMF."
   ]
  },
  {
   "cell_type": "code",
   "execution_count": 21,
   "metadata": {},
   "outputs": [
    {
     "name": "stdout",
     "output_type": "stream",
     "text": [
      "Obtained relative frequencies\n",
      "(0, 5): 0.0831\n",
      "(0, 6): 0.1166\n",
      "(1, 5): 0.2041\n",
      "(1, 6): 0.2952\n",
      "(2, 5): 0.1186\n",
      "(2, 6): 0.1824\n",
      "\n",
      "Values of probability mass function\n",
      "(0, 5): 0.08000000000000002\n",
      "(0, 6): 0.12\n",
      "(1, 5): 0.2\n",
      "(1, 6): 0.3\n",
      "(2, 5): 0.12\n",
      "(2, 6): 0.18\n"
     ]
    }
   ],
   "source": [
    "xvalues = [0, 1, 2]\n",
    "xprobs = [0.2, 0.5, 0.3]\n",
    "\n",
    "yvalues = [5, 6]\n",
    "yprobs = [0.4, 0.6]\n",
    "\n",
    "size = 10000\n",
    "\n",
    "sample = [indep_choice(xvalues, xprobs, yvalues, yprobs) \n",
    "          for _ in range(size)] \n",
    "\n",
    "def print_sorted_keys(dictionary):\n",
    "    for k in sorted(dictionary):\n",
    "        print(f\"{k}: {dictionary[k]}\")\n",
    "\n",
    "print(\"Obtained relative frequencies\")\n",
    "print_sorted_keys(count_frequencies(sample, relative=True))\n",
    "\n",
    "print(\"\\nValues of probability mass function\")\n",
    "print_sorted_keys(joint_pmf(xvalues, xprobs, yvalues, yprobs))"
   ]
  },
  {
   "cell_type": "markdown",
   "metadata": {},
   "source": [
    "**Peer review grading:** Values of obtained frequencies should be close to values of PMF."
   ]
  },
  {
   "cell_type": "markdown",
   "metadata": {},
   "source": [
    "### Dependent random variables: probability mass function\n",
    "Consider system $(X, Y)$ of random variables, defined in the following way. Let $X$ be Bernoulli random variable with parameter $p$, i.e. random variable that takes value 1 with probability $p$ and value $0$ with probability $1-p$. Assume also that $Y$ takes values 0 and 1 as well, and $P(Y=1\\mid X = 0) = q_0$ and $P(Y=1 \\mid X = 1) = q_1$. Implement function `dependent_bernoulli_pmf(p, q0, q1)` that generates dictionary with joint probability mass function (like in the first problem)."
   ]
  },
  {
   "cell_type": "code",
   "execution_count": 29,
   "metadata": {
    "nbgrader": {
     "grade": false,
     "grade_id": "cell-8c4b3dec05592d73",
     "locked": false,
     "schema_version": 3,
     "solution": true,
     "task": false
    }
   },
   "outputs": [],
   "source": [
    "def dependent_bernoulli_pmf(p, q0, q1):\n",
    "    return {(0, 0): (1 - p) * (1 - q0),\n",
    "            (0, 1): (1 - p) * q0,\n",
    "            (1, 0): p * (1 - q1),\n",
    "            (1, 1): p * q1}"
   ]
  },
  {
   "cell_type": "code",
   "execution_count": 30,
   "metadata": {
    "nbgrader": {
     "grade": true,
     "grade_id": "cell-e005a56586ccdfb7",
     "locked": true,
     "points": 1,
     "schema_version": 3,
     "solution": false,
     "task": false
    }
   },
   "outputs": [],
   "source": [
    "assert dependent_bernoulli_pmf(0.25, 0.125, 0.25) == {(0, 0): 0.65625, \n",
    "                                                      (0, 1): 0.09375, \n",
    "                                                      (1, 0): 0.1875, \n",
    "                                                      (1, 1): 0.0625}"
   ]
  },
  {
   "cell_type": "markdown",
   "metadata": {},
   "source": [
    "### Dependent random variables: generation\n",
    "\n",
    "Implement function `dependent_bernoulli(p, q0, q1)` that generates a pair `(x, y)` that is a sample from a system $(X, Y)$ of random variables, described above."
   ]
  },
  {
   "cell_type": "code",
   "execution_count": 36,
   "metadata": {
    "nbgrader": {
     "grade": false,
     "grade_id": "cell-00b740076b771cee",
     "locked": false,
     "schema_version": 3,
     "solution": true,
     "task": false
    }
   },
   "outputs": [],
   "source": [
    "def dependent_bernoulli(p, q0, q1):\n",
    "    x = choice([0, 1], p=[1-p, p])\n",
    "    if x == 0:\n",
    "        y = choice([0, 1], p=[1-q0, q0])\n",
    "    else:\n",
    "        y = choice([0, 1], p=[1-q1, q1])\n",
    "    return (x, y)"
   ]
  },
  {
   "cell_type": "code",
   "execution_count": 37,
   "metadata": {},
   "outputs": [
    {
     "name": "stdout",
     "output_type": "stream",
     "text": [
      "Obtained relative frequencies\n",
      "(0, 0): 0.6546\n",
      "(0, 1): 0.0945\n",
      "(1, 0): 0.1882\n",
      "(1, 1): 0.0627\n",
      "\n",
      "Values of probability mass function\n",
      "(0, 0): 0.65625\n",
      "(0, 1): 0.09375\n",
      "(1, 0): 0.1875\n",
      "(1, 1): 0.0625\n"
     ]
    }
   ],
   "source": [
    "def test_dependent(p, q0, q1, size):\n",
    "    sample = [dependent_bernoulli(p, q0, q1) for _ in range(size)]\n",
    "\n",
    "    print(\"Obtained relative frequencies\")\n",
    "    print_sorted_keys(count_frequencies(sample, relative=True))\n",
    "\n",
    "    print(\"\\nValues of probability mass function\")\n",
    "    print_sorted_keys(dependent_bernoulli_pmf(p, q0, q1))\n",
    "    \n",
    "test_dependent(0.25, 0.125, 0.25, 10000)"
   ]
  },
  {
   "cell_type": "markdown",
   "metadata": {},
   "source": [
    "**Peer review grading:** Values of obtained frequencies should be close to values of PMF."
   ]
  },
  {
   "cell_type": "code",
   "execution_count": 42,
   "metadata": {},
   "outputs": [
    {
     "name": "stdout",
     "output_type": "stream",
     "text": [
      "Obtained relative frequencies\n",
      "(0, 0): 0.4372\n",
      "(0, 1): 0.0648\n",
      "(1, 0): 0.1212\n",
      "(1, 1): 0.3768\n",
      "\n",
      "Values of probability mass function\n",
      "(0, 0): 0.4375\n",
      "(0, 1): 0.0625\n",
      "(1, 0): 0.125\n",
      "(1, 1): 0.375\n"
     ]
    }
   ],
   "source": [
    "test_dependent(0.5, 0.125, 0.75, 10000)"
   ]
  },
  {
   "cell_type": "markdown",
   "metadata": {},
   "source": [
    "**Peer review grading:** Values of obtained frequencies should be close to values of PMF."
   ]
  }
 ],
 "metadata": {
  "celltoolbar": "Create Assignment",
  "kernelspec": {
   "display_name": "Python 3 (ipykernel)",
   "language": "python",
   "name": "python3"
  },
  "language_info": {
   "codemirror_mode": {
    "name": "ipython",
    "version": 3
   },
   "file_extension": ".py",
   "mimetype": "text/x-python",
   "name": "python",
   "nbconvert_exporter": "python",
   "pygments_lexer": "ipython3",
   "version": "3.9.12"
  }
 },
 "nbformat": 4,
 "nbformat_minor": 4
}
