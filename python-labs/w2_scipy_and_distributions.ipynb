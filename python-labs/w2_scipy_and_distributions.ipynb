{
 "cells": [
  {
   "cell_type": "code",
   "execution_count": 1,
   "metadata": {},
   "outputs": [
    {
     "name": "stdout",
     "output_type": "stream",
     "text": [
      "0.01656360848061443\n"
     ]
    }
   ],
   "source": [
    "# Assume that number of calls that some call center receives during one minute is Poisson random variable with parameter  𝑙𝑎𝑚𝑏𝑑𝑎=2.  Use Python to find probability that number of calls is larger than 5. Enter number with first 5 digits after the decimal point. \n",
    "import scipy.stats as sts\n",
    "\n",
    "lamda = 2\n",
    "k = 5\n",
    "poisson = sts.poisson(lamda).sf(k)\n",
    "\n",
    "print(poisson)\n"
   ]
  },
  {
   "cell_type": "code",
   "execution_count": 2,
   "metadata": {},
   "outputs": [
    {
     "name": "stdout",
     "output_type": "stream",
     "text": [
      "5\n"
     ]
    }
   ],
   "source": [
    "# This problem continues previous one. Assume now that one operator can handle one call in one minute. If call is not handled, it's missed. How many operators should I hire to be sure that probability to miss a call during one minute is not larger than 0.05? Of course I want to minimize number of operators hired. \n",
    "\n",
    "lamda = 2\n",
    "p = 0.05\n",
    "k = 0\n",
    "poisson = sts.poisson(lamda).sf(k)\n",
    "\n",
    "while poisson > p:\n",
    "    k += 1\n",
    "    poisson = sts.poisson(lamda).sf(k)\n",
    "print(k)\n"
   ]
  }
 ],
 "metadata": {
  "kernelspec": {
   "display_name": "base",
   "language": "python",
   "name": "python3"
  },
  "language_info": {
   "codemirror_mode": {
    "name": "ipython",
    "version": 3
   },
   "file_extension": ".py",
   "mimetype": "text/x-python",
   "name": "python",
   "nbconvert_exporter": "python",
   "pygments_lexer": "ipython3",
   "version": "3.9.12"
  },
  "orig_nbformat": 4
 },
 "nbformat": 4,
 "nbformat_minor": 2
}
