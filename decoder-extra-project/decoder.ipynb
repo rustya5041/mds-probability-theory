{
 "cells": [
  {
   "cell_type": "code",
   "execution_count": 27,
   "metadata": {},
   "outputs": [],
   "source": [
    "import numpy as np\n",
    "import scipy\n",
    "import scipy.stats\n",
    "\n",
    "import matplotlib.pyplot as plt\n",
    "\n",
    "%matplotlib inline\n",
    "\n",
    "from tqdm.auto import tqdm\n",
    "import string"
   ]
  },
  {
   "cell_type": "markdown",
   "metadata": {
    "colab_type": "text",
    "id": "lWSj-xmfGjPK"
   },
   "source": [
    "# Substitution Cipher\n",
    "\n",
    "In this task we will decrypt data that was scrambled using a Substitution Cipher. We assume that encryption key is unknown and we want to decrypt the data and read the code using recovered decryption key. [Introduction from here](http://statweb.stanford.edu/~cgates/PERSI/papers/MCMCRev.pdf) gives reference to the original task."
   ]
  },
  {
   "cell_type": "markdown",
   "metadata": {
    "colab_type": "text",
    "id": "lWSj-xmfGjPK"
   },
   "source": [
    "As verification we will take a piece from \"Alice's adventures in Wonderland\". We scramble data with a random encryption key, which we forgot after encrypting, and we would like to decrypt this encrypted text using MCMC Chains."
   ]
  },
  {
   "cell_type": "code",
   "execution_count": 28,
   "metadata": {},
   "outputs": [],
   "source": [
    "plain_text = \"\"\"\n",
    "Alice was beginning to get very tired of sitting by her sister on the bank, and of having nothing to do: once or twice she had peeped into the book her sister was reading, but it had no pictures or conversations in it, 'and what is the use of a book,' thought Alice 'without pictures or conversation?'\n",
    "So she was considering in her own mind (as well as she could, for the hot day made her feel very sleepy and stupid), whether the pleasure of making a daisy-chain would be worth the trouble of getting up and picking the daisies, when suddenly a White Rabbit with pink eyes ran close by her.\n",
    "There was nothing so very remarkable in that; nor did Alice think it so very much out of the way to hear the Rabbit say to itself, 'Oh dear! Oh dear! I shall be late!' (when she thought it over afterwards, it occurred to her that she ought to have wondered at this, but at the time it all seemed quite natural); but when the Rabbit actually took a watch out of its waistcoat-pocket, and looked at it, and then hurried on, Alice started to her feet, for it flashed across her mind that she had never before see a rabbit with either a waistcoat-pocket, or a watch to take out of it, and burning with curiosity, she ran across the field after it, and fortunately was just in time to see it pop down a large rabbit-hole under the hedge.\n",
    "In another moment down went Alice after it, never once considering how in the world she was to get out again.\n",
    "The rabbit-hole went straight on like a tunnel for some way, and then dipped suddenly down, so suddenly that Alice had not a moment to think about stopping herself before she found herself falling down a very deep well.\n",
    "\"\"\""
   ]
  },
  {
   "cell_type": "markdown",
   "metadata": {},
   "source": [
    "We will use 26 letters of English alphabet."
   ]
  },
  {
   "cell_type": "code",
   "execution_count": 29,
   "metadata": {},
   "outputs": [],
   "source": [
    "characters = string.ascii_lowercase\n",
    "characters_dict = {char : c for c, char in enumerate(characters, start=1)}\n",
    "m = len(characters) + 1"
   ]
  },
  {
   "cell_type": "markdown",
   "metadata": {},
   "source": [
    "## Generate random encryption key.\n",
    "\n",
    "Here are functions that will be used to encrypt/decrypt text."
   ]
  },
  {
   "cell_type": "code",
   "execution_count": 30,
   "metadata": {},
   "outputs": [],
   "source": [
    "def encode_text(text_to_encode, characters_dict):\n",
    "    \"\"\"This function turns a text string into an integer sequence using given dictionary.\"\"\"\n",
    "    characters_set = set(characters_dict.keys())\n",
    "    return np.r_[[characters_dict[char] if char in characters_set else 0 for char in text_to_encode.strip().lower()]]\n",
    "\n",
    "def decode_text(text_to_decode, characters):\n",
    "    \"\"\"This function turns an integer sequence into a text string using given list of characters.\"\"\"\n",
    "    characters_array = np.array([\" \"] + list(characters))\n",
    "    return \"\".join(characters_array[text_to_decode])\n",
    "\n",
    "def apply_cipher(text_as_int_array, cipher):\n",
    "    \"This function applies substitution cipher to an integer sequence.\"\n",
    "    return cipher[text_as_int_array]"
   ]
  },
  {
   "cell_type": "markdown",
   "metadata": {},
   "source": [
    "Generate encryption and decryption keys. They are just permutations of the alphabet."
   ]
  },
  {
   "cell_type": "code",
   "execution_count": 31,
   "metadata": {},
   "outputs": [],
   "source": [
    "np.random.seed(1234)\n",
    "\n",
    "encryption_indices = np.random.permutation(np.arange(m-1))\n",
    "decryption_indices = np.argsort(encryption_indices)\n",
    "\n",
    "characters_array = np.array(list(characters))\n",
    "encryption_key = \"\".join(characters_array[encryption_indices])\n",
    "decryption_key = \"\".join(characters_array[decryption_indices])"
   ]
  },
  {
   "cell_type": "markdown",
   "metadata": {},
   "source": [
    "Check encoding/decoding functions and encryption/decryption keys."
   ]
  },
  {
   "cell_type": "code",
   "execution_count": 32,
   "metadata": {},
   "outputs": [
    {
     "data": {
      "text/plain": [
       "'the quick brown fox jumps over the lazy dog'"
      ]
     },
     "execution_count": 32,
     "metadata": {},
     "output_type": "execute_result"
    }
   ],
   "source": [
    "encryption_key_encoded = np.r_[0, encode_text(encryption_key, characters_dict)]\n",
    "decryption_key_encoded = np.r_[0, encode_text(decryption_key, characters_dict)]\n",
    "\n",
    "text = \"The quick brown fox jumps over the lazy dog\"\n",
    "\n",
    "encoded_text = encode_text(text, characters_dict)\n",
    "cipher_text = apply_cipher(encoded_text, encryption_key_encoded)\n",
    "encoded_text = apply_cipher(cipher_text, decryption_key_encoded)\n",
    "decoded_text = decode_text(encoded_text, characters_dict)\n",
    "decoded_text"
   ]
  },
  {
   "cell_type": "markdown",
   "metadata": {},
   "source": [
    "Encrypt cipher text."
   ]
  },
  {
   "cell_type": "code",
   "execution_count": 33,
   "metadata": {},
   "outputs": [],
   "source": [
    "plain_text_encoded = encode_text(plain_text, characters_dict)\n",
    "cipher_text = apply_cipher(plain_text_encoded, encryption_key_encoded)"
   ]
  },
  {
   "cell_type": "markdown",
   "metadata": {},
   "source": [
    "## Collect frequences \n",
    "\n",
    "Collect frequences of two character combinations (bigrams) over large text corpus and from encrypted text. We will store them in a matrix and interpret it as a transition matrix: from the first character to the second."
   ]
  },
  {
   "cell_type": "code",
   "execution_count": 34,
   "metadata": {},
   "outputs": [],
   "source": [
    "def collect_transition_frequences(data, transition_matrix):\n",
    "    \"\"\"For a given integer sequence, which corresponds to some char sequence, \n",
    "       return transitions for adjacent values.\"\"\"\n",
    "    transitions = data.repeat(2)[1:-1].reshape(-1, 2)\n",
    "    for i, j in transitions:\n",
    "        transition_matrix[i, j] += 1\n",
    "    \n",
    "    return transition_matrix\n",
    "\n",
    "def collect_empirical_frequences(filename, characters_dict, m):\n",
    "    \"\"\"Collect frequences over large text corpus, return transition matrix.\"\"\"\n",
    "    transition_matrix = np.zeros((m, m))\n",
    "    with open(filename) as f:\n",
    "        for line in f:\n",
    "            line_encoded = encode_text(line, characters_dict)\n",
    "            if line_encoded.size > 1:\n",
    "                transition_matrix = collect_transition_frequences(line_encoded, transition_matrix)\n",
    "                \n",
    "    return transition_matrix\n",
    "\n",
    "def collect_observed_frequences(cipher_text, characters_dict, m):\n",
    "    \"\"\"Collect frequences over encrypted text, return nonzero indices of \n",
    "       transition matrix for both dimentions and values for those indices.\n",
    "       `values = transition_matrix[indices_1, indices_2]`\"\"\"\n",
    "    transition_matrix = np.zeros((m, m))\n",
    "    transition_matrix = collect_transition_frequences(cipher_text, transition_matrix)\n",
    "    \n",
    "    return transition_matrix"
   ]
  },
  {
   "cell_type": "markdown",
   "metadata": {},
   "source": [
    "Collect frequences."
   ]
  },
  {
   "cell_type": "code",
   "execution_count": 35,
   "metadata": {},
   "outputs": [],
   "source": [
    "empirical_frequences = collect_empirical_frequences('war_and_peace.txt', characters_dict, m)\n",
    "observed_frequences = collect_observed_frequences(cipher_text, characters_dict, m)"
   ]
  },
  {
   "cell_type": "markdown",
   "metadata": {},
   "source": [
    "## General algorithm"
   ]
  },
  {
   "cell_type": "markdown",
   "metadata": {
    "colab_type": "text",
    "id": "yjedc-_xGjPO"
   },
   "source": [
    "Our Chain will include states that are permutations of the substitution cipher. Algorithm has following steps:\n",
    "\n",
    "1. Start by picking up a random current state. \n",
    "2. Create a proposal for a new state by swapping two or more random letters in the current state.\n",
    "3. Use a Scoring Function which calculates the score of the current state $Score_{old}$ and the proposed state $Score_{new}$.\n",
    "4. If the score of the proposed state is more than current state, Move to Proposed State.\n",
    "5. Else flip a coin which has a probability of Heads $\\frac{Score_{new}}{Score_{old}}$  . If it comes heads move to proposed State.\n",
    "6. Repeat from Step 2.\n",
    "\n",
    "We want ot reach a steady state where the chain has the stationary distribution of the needed states. This state of chain could be used as a solution.\n",
    "\n",
    "Your goal is to implement steps 2 and 3 (see the templates below)."
   ]
  },
  {
   "cell_type": "markdown",
   "metadata": {},
   "source": [
    "## Step 2: Prepare sampling function."
   ]
  },
  {
   "cell_type": "markdown",
   "metadata": {
    "colab_type": "text",
    "id": "yjedc-_xGjPO"
   },
   "source": [
    "\n",
    "\n",
    "To generate a new proposed cipher we randomly select several positions and swap values at those positions. It corresponds to change in seveal mappings of encrypted characters in decrypted ones. Example with 2 swaps.\n",
    "\n",
    "was|now\n",
    "-|-\n",
    "A -> B | A -> B\n",
    "B -> C | B -> C\n",
    "C -> D | C -> A\n",
    "D -> A | D -> D"
   ]
  },
  {
   "cell_type": "code",
   "execution_count": 42,
   "metadata": {},
   "outputs": [],
   "source": [
    "# 2. Create a proposal for a new state by swapping two or more random letters in the current state.\n",
    "\n",
    "def generate_cipher(cipher, m, size=2): \n",
    "    new_cipher = cipher.copy() \n",
    "    indices = np.random.choice(m, size=size, replace=False) \n",
    "    new_cipher[indices] = new_cipher[indices[::-1]]\n",
    "    return new_cipher"
   ]
  },
  {
   "cell_type": "markdown",
   "metadata": {},
   "source": [
    "## Step 3: Prepare scoring function."
   ]
  },
  {
   "cell_type": "markdown",
   "metadata": {
    "colab_type": "text",
    "id": "siBVVI9ZGjPP"
   },
   "source": [
    "We want to use a scoring function for each state(Decryption key) which assigns a positive score to each decryption key. This score intuitively should be larger if the encrypted text looks more like actual english, when decrypted using this decryption key. We will check a large text and calculate frequences: how many times one character comes after another in a large text like \"War and Peace\".\n",
    "\n",
    "For each pair of characters $\\beta_1$ and $\\beta_2$ (e.g. $\\beta_1$ = A and $\\beta_2$ = B), we let $R(\\beta_1,\\beta_2)$ record the number of times that specific pair(e.g. \"AB\") appears consecutively in the reference text.\n",
    "\n",
    "Similarly, for a considered decryption key $x$, we let $F_x(\\beta_1,\\beta_2)$ record the number of times that\n",
    "pair appears when the cipher text is decrypted using the decryption key $x$.\n",
    "\n",
    "We then Score a particular decryption key $x$ using:\n",
    "\n",
    "$$Score(x) = \\prod R(\\beta_1,\\beta_2)^{F_x(\\beta_1,\\beta_2)}$$\n",
    "    \n",
    "To make life easier with calculations we will calculate $log(Score(x))$"
   ]
  },
  {
   "cell_type": "markdown",
   "metadata": {},
   "source": [
    "Now, you need to implement scoring function. As input it takes \n",
    "- `cipher`: mapping between encrypted characters and decrypted characters,\n",
    "- `observed_frequences`: transition matrix for cipher text, matrix representation of $F_x(\\beta_1,\\beta_2)$,\n",
    "- `empirical_frequences`: transition matrix for large text, matrix representation of $R(\\beta_1,\\beta_2)$.\n",
    "\n",
    "Scoring function returns $log(Score(x))$. You need correctly process zero values in transition matrices while calculating the score."
   ]
  },
  {
   "cell_type": "code",
   "execution_count": 72,
   "metadata": {},
   "outputs": [],
   "source": [
    "def score_cipher(cipher, observed_frequences, empirical_frequences):\n",
    "    n = observed_frequences.shape[0]\n",
    "    score = 0\n",
    "\n",
    "    for i in range(n): \n",
    "        for j in range(n): \n",
    "            empirical_frequency, observed_frequency = empirical_frequences[cipher[i], cipher[j]], observed_frequences[i][j]  \n",
    "                        \n",
    "            if empirical_frequency > 0: \n",
    "                score += observed_frequency * np.log(empirical_frequency) \n",
    "    return score"
   ]
  },
  {
   "cell_type": "markdown",
   "metadata": {},
   "source": [
    "## Decryption\n",
    "\n",
    "Now we a ready to decrypt cipher text."
   ]
  },
  {
   "cell_type": "code",
   "execution_count": 73,
   "metadata": {},
   "outputs": [],
   "source": [
    "def decrypting(observed_frequences, empirical_frequences, n_iters, m, step_size, seed, print_it=1000):\n",
    "    \"\"\"This function finds most suited decrypting cipher(1D np.array).\n",
    "        observed_frequences, 2D np.array - transition matrix with frequences for cipher text,\n",
    "        empirical_frequences, 2D np.array - transition matrix with frequences for large text,\n",
    "        n_iters, int - number of MCMC iterations,\n",
    "        step_size, int - number of changes in cipher per one iteration,\n",
    "        seed, int - seed for random generator,\n",
    "        print_it, int - print decrypted text every `print_it` iterations.\n",
    "    \"\"\"\n",
    "\n",
    "    np.random.seed(seed)\n",
    "\n",
    "    # 1. Start by picking up a random current state. \n",
    "    cipher_old = np.arange(m)\n",
    "    score_cipher_old = score_cipher(cipher_old, observed_frequences, empirical_frequences)\n",
    "    best_state, score = cipher_old, score_cipher_old\n",
    "\n",
    "    for i in tqdm(range(1, n_iters+1)):\n",
    "\n",
    "        # 2. Create a proposal for a new state by swapping two or more random letters in the current state.\n",
    "        cipher_new = generate_cipher(cipher_old, m, size=step_size)\n",
    "\n",
    "        # 3. Use a Scoring Function which calculates the score of the current state $Score_{old}$ and the proposed State $Score_{new}$.\n",
    "        score_cipher_new = score_cipher(cipher_new, observed_frequences, empirical_frequences)\n",
    "        acceptance_probability = np.min((1, np.exp(score_cipher_new - score_cipher_old)))\n",
    "\n",
    "        # 4. If the score of the proposed state is more than current state, Move to Proposed State.\n",
    "        # 5. Else flip a coin which has a probability of Heads $Score_{new}/Score_{old}$. If it comes heads move to proposed State.\n",
    "        if score_cipher_old > score:\n",
    "            best_state, score = cipher_old, score_cipher_old\n",
    "        if acceptance_probability > np.random.uniform(0,1):\n",
    "            cipher_old, score_cipher_old = cipher_new, score_cipher_new\n",
    "        if i % print_it == 0:\n",
    "            print(f\"iter {i}: {decode_text(apply_cipher(cipher_text[0:99], cipher_old), characters)}\")\n",
    "\n",
    "    return best_state"
   ]
  },
  {
   "cell_type": "code",
   "execution_count": 77,
   "metadata": {},
   "outputs": [
    {
     "data": {
      "application/vnd.jupyter.widget-view+json": {
       "model_id": "d03aed59c712454c9201e9cf83635977",
       "version_major": 2,
       "version_minor": 0
      },
      "text/plain": [
       "  0%|          | 0/5000 [00:00<?, ?it/s]"
      ]
     },
     "metadata": {},
     "output_type": "display_data"
    },
    {
     "name": "stdout",
     "output_type": "stream",
     "text": [
      "iter 1000: alice waf keginning to get very tired op fitting ky her fifter on the kans  and op having nothing t\n",
      "iter 2000: alice was beginning to get very tired om sitting by her sister on the bank  and om having nothing t\n",
      "iter 3000: alice was beginning to get very tired of sitting by her sister on the bank  and of having nothing t\n",
      "iter 4000: alice was beginning to get very tired of sitting by her sister on the bank  and of having nothing t\n",
      "iter 5000: alice was beginning to get very tired of sitting by her sister on the bank  and of having nothing t\n",
      "\n",
      "Decoded Text: alice was beginning to get very tired of sitting by her sister on the bank  and of having nothing to do  once or twice she had peeped into the book her sister was reading  but it had no pictures or conversations in it   and what is the use of a book   thought alice  without pictures or conversation   so she was considering in her own mind  as well as she could  for the hot day made her feel very sleepy and stupid   whether the pleasure of making a daisy chain would be worth the trouble of getting up and picking the daisies  when suddenly a white rabbit with pink eyes ran close by her  there was nothing so very remarkable in that  nor did alice think it so very much out of the way to hear the rabbit say to itself   oh dear  oh dear  i shall be late    when she thought it over afterwards  it occurred to her that she ought to have wondered at this  but at the time it all seemed quite natural   but when the rabbit actually took a watch out of its waistcoat pocket  and looked at it  and then hurried on  alice started to her feet  for it flashed across her mind that she had never before see a rabbit with either a waistcoat pocket  or a watch to take out of it  and burning with curiosity  she ran across the field after it  and fortunately was just in time to see it pop down a large rabbit hole under the hedge  in another moment down went alice after it  never once considering how in the world she was to get out again  the rabbit hole went straight on like a tunnel for some way  and then dipped suddenly down  so suddenly that alice had not a moment to think about stopping herself before she found herself falling down a very deep well \n",
      "\n",
      "MCMC KEY  : iecdhgxajrmqvkpzbsfyuwolnt\n",
      "ACTual KEY: iecdhgxajrmqvkpzbsfyuwolnt\n"
     ]
    },
    {
     "name": "stderr",
     "output_type": "stream",
     "text": [
      "/var/folders/ng/f8vsqm9539z8fn3nw5gt9whh0000gn/T/ipykernel_24215/4002575146.py:25: RuntimeWarning: overflow encountered in exp\n",
      "  acceptance_probability = np.min((1, np.exp(score_cipher_new - score_cipher_old)))\n"
     ]
    }
   ],
   "source": [
    "# i've slightly tuned the check by dividing the number of iterations and number of changes in cipher by 2. I've also changed the seed to 123 bc for some reason the previous seed was not working properly\n",
    "decrypt_cipher = decrypting(observed_frequences, empirical_frequences, 5000, m, 2, 123, 1000)\n",
    "\n",
    "print(\n",
    "    f\"\\nDecoded Text: {decode_text(apply_cipher(cipher_text, decrypt_cipher), characters)}\\n\\n\"\n",
    "    f\"MCMC KEY  : {''.join(characters_array[decrypt_cipher[1:]-1])}\\n\"\n",
    "    f\"ACTual KEY: {decryption_key}\"\n",
    ")"
   ]
  },
  {
   "cell_type": "code",
   "execution_count": null,
   "metadata": {},
   "outputs": [],
   "source": []
  },
  {
   "cell_type": "code",
   "execution_count": null,
   "metadata": {},
   "outputs": [],
   "source": []
  }
 ],
 "metadata": {
  "kernelspec": {
   "display_name": "Python 3",
   "language": "python",
   "name": "python3"
  },
  "language_info": {
   "codemirror_mode": {
    "name": "ipython",
    "version": 3
   },
   "file_extension": ".py",
   "mimetype": "text/x-python",
   "name": "python",
   "nbconvert_exporter": "python",
   "pygments_lexer": "ipython3",
   "version": "3.9.12"
  },
  "varInspector": {
   "cols": {
    "lenName": 16,
    "lenType": 16,
    "lenVar": 40
   },
   "kernels_config": {
    "python": {
     "delete_cmd_postfix": "",
     "delete_cmd_prefix": "del ",
     "library": "var_list.py",
     "varRefreshCmd": "print(var_dic_list())"
    },
    "r": {
     "delete_cmd_postfix": ") ",
     "delete_cmd_prefix": "rm(",
     "library": "var_list.r",
     "varRefreshCmd": "cat(var_dic_list()) "
    }
   },
   "types_to_exclude": [
    "module",
    "function",
    "builtin_function_or_method",
    "instance",
    "_Feature"
   ],
   "window_display": false
  }
 },
 "nbformat": 4,
 "nbformat_minor": 4
}
