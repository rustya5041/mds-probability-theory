{
 "cells": [
  {
   "cell_type": "markdown",
   "metadata": {},
   "source": [
    "### Let \\( X\\) be uniform random variable on a segment \\( [0, 2]\\). Consider random variable \\( Y=X^2\\).\n",
    "\n",
    "---\n",
    "`1.1 Find CDF and PDF of  Y. 1.2 Is PDF a bounded function?`\n",
    "\n",
    "The CDF(X) can be defined as:\n",
    "$F_X(x) = P(X \\leq x) = \\begin{cases} 0 & x < 0 \\\\ \\frac{x}{2} & x \\in [0,2] \\\\ 1 & x > 2 \\end{cases}$\n",
    "\n",
    "$\\implies$ the CDF of $Y$ is given by $F_Y(y) = P(Y \\leq y) = P(X^2 \\leq y) = P(X \\leq \\sqrt{y}) = \\frac{\\sqrt{y}}{2}$\n",
    "\n",
    "Given that X is a uniform distribution on the segment [0,2], Y can take values **only** on the segment $[0,4] \\implies$ to obtain PDF we need to find the derivative of the CDF.\n",
    "\n",
    "$\\implies$ the PDF of $Y$ is given by $f_Y(y) = \\frac{dFY(y)}{dy} = \\frac{d \\sqrt y}{2dy} = \\frac {1}{4 \\sqrt y}$\n",
    "\n",
    "$\\therefore$ the PDF of $Y$ is an unbounded function.\n",
    "\n",
    "\n"
   ]
  }
 ],
 "metadata": {
  "language_info": {
   "name": "python"
  },
  "orig_nbformat": 4
 },
 "nbformat": 4,
 "nbformat_minor": 2
}
