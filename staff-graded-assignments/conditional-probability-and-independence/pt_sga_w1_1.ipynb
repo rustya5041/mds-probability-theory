{
 "cells": [
  {
   "cell_type": "markdown",
   "metadata": {},
   "source": [
    "### `by Magomedov Rustam`"
   ]
  },
  {
   "cell_type": "markdown",
   "metadata": {},
   "source": [
    "`Task 1. Consider two random events (A) and (B) defined for the same random experiment.`  \n",
    "- __*Is it possible that \\(A\\) and \\(B\\) are independent and mutually exclusive (disjoint) at the same time? Explain your answer.*__\n",
    "\n",
    "`Answer`: yes, it is possible that $A$ and $B$ are both independent and mutually exclusive.  \n",
    "\n",
    "If $A$ and $B$ are _independent_, it must hold true that $P(A \\cap B) = P(A) \\cdot P(B)$  \n",
    "If $A$ and $B$ are _disjoint_, it must hold true that $P(A \\cap B) = 0$ \n",
    "$\\implies$ we obtain the equality $P(A \\cap B) = P(A) \\cdot P(B) = 0$  \n",
    "$\\therefore$ it is possible when at least one of {$A,B$} $= 0$\n",
    "\n",
    "- __*Does the answer change if given that \\(P(A) > 0 \\) and \\(P(B) > 0 \\)? Explain your answer.*__\n",
    "\n",
    "`Answer`: yes, the answer changes, as the equality is violated  \n",
    "$\\implies P(A \\cap B) = P(A) \\cdot P(B) ≠ 0 \\mid P(A) > 0,  P(B) > 0$  \n",
    "$\\therefore$ under this restrictions events $A$ and $B$ cannot be both disjoint and independent at the same time by definition."
   ]
  }
 ],
 "metadata": {
  "kernelspec": {
   "display_name": "Python 3 (ipykernel)",
   "language": "python",
   "name": "python3"
  },
  "language_info": {
   "codemirror_mode": {
    "name": "ipython",
    "version": 3
   },
   "file_extension": ".py",
   "mimetype": "text/x-python",
   "name": "python",
   "nbconvert_exporter": "python",
   "pygments_lexer": "ipython3",
   "version": "3.9.12"
  },
  "vscode": {
   "interpreter": {
    "hash": "aee8b7b246df8f9039afb4144a1f6fd8d2ca17a180786b69acc140d282b71a49"
   }
  }
 },
 "nbformat": 4,
 "nbformat_minor": 2
}
