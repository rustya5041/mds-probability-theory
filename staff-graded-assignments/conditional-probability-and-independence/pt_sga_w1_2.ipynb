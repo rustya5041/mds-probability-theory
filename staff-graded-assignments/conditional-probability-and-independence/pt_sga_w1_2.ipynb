{
 "cells": [
  {
   "cell_type": "markdown",
   "metadata": {},
   "source": [
    "### `by Magomedov Rustam`"
   ]
  },
  {
   "cell_type": "markdown",
   "metadata": {},
   "source": [
    "`Task 2. Consider events`  \n",
    "- $H{_1}$: the car is behind door number $1$  \n",
    "- $H{_2}$: the car is behind door number $2$  \n",
    "- $H{_3}$: the car is behind door number $3$   \n",
    "- $A$: the host opened door number $2$.\n",
    "\n",
    "---\n",
    "1. **What can you say about probability of $H{_3}$ before any door is opened?**\n",
    "\n",
    "`Answer`: $\\Omega = \\{H1, H2, H3\\} \\implies P(H{_3}) = {1\\over 3}$\n",
    "\n",
    "--- \n",
    "2. **Assume that the host opened door number $2$. What would you say about probability of $H3$ after you observe that?**\n",
    "\n",
    "`Answer`: by definition of the game restriction, the host always opens the non-chosen empty door. This gives us the information that under the general setup $1/2$ of the total decoy doors are eliminated by the host. Since we chose door $1$, which is empty, we eliminated the possibility of the host opening this door. Likewise, the host won't open the door $3$ since there's a car behind it. Using the _law of total probability_, we obtain the following setup for $P(A)$ calculation:\n",
    "- $P(A \\mid H{_1}) = {1 \\over 2}$, as the participant correctly guessed the car door, the host can open any remaining decoy doors $2$ or $3$ (assuming the host chooses randomly with equal probabilities)\n",
    "- $P(A \\mid H{_2}) = 0$, since the car is behind door $2$, which cannot be opened by the game restriction.\n",
    "- $P(A \\mid H{_3}) = 1$, since the participant already chose one of the decoy doors, and the host cannot open the door $3$ because it has a car behid it.  \n",
    "\n",
    "$\\implies P(A) = ({1 \\over 2} \\cdot {1 \\over 3}) + (0 \\cdot {1 \\over 3}) + (1 \\cdot {1 \\over 3}) = {1 \\over 2}$  \n",
    "\n",
    "$\\implies P(H{_3} \\mid A) = {P(A \\cap H{_3}) \\cdot P(H{_3}) \\over P(A)} = {P(A \\mid H{_3}) \\cdot P(H{_3}) \\over P(A)} = {(1) \\cdot ({1 \\over 3}) \\over {1 \\over 2}} = {2 \\over 3}$\n",
    "\n",
    "--- \n",
    "3. **Are events $A$ and $H{_1}$ independent? $A$ and $H{_2}$? $A$ and $H{_3}$?**\n",
    "\n",
    "`Answer`: given $P(A) = {1 \\over 2}, P(A \\mid H{_1}) = {1 \\over 2}, P(A \\mid H{_2}) = 0, P(A \\mid H{_3}) = 1$, we obtain\n",
    "- $P(A \\mid H{_1}) = P(A) \\implies$ independent\n",
    "- $P(A \\mid H{_2}) ≠ P(A) \\implies$ not independent; moreover, such case violates the game restriction and these events are disjoint\n",
    "- $P(A \\mid H{_3}) ≠ P(A) \\implies$ not independent\n",
    "\n",
    "---\n",
    "4. **Use Bayes' rule to find $P(H{_1} \\mid A)$ and $P(H{_3} \\mid A)$ (find all necessary probabilities that are used in Bayes' rule first). Compare with your previous answers.**\n",
    "\n",
    "`Answer`  \n",
    "$P(H{_1} \\mid A) = {{P(H{_1} \\cap A)} \\over {P(A)}} = {P(A \\mid H{_1}) \\cdot P(H{_1}) \\over P(A)} = {({1 \\over 2}) \\cdot ({1\\over 3}) \\over {1 \\over 2}} = {1 \\over 3}$  \n",
    "\n",
    "$P(H{_3} \\mid A) = {{P(H{_3} \\cap A)} \\over {P(A)}} = {P(A \\mid H{_3}) \\cdot P(H{_3}) \\over P(A)} = {(1) \\cdot ({1\\over 3}) \\over {1 \\over 2}} = {2 \\over 3}$  \n",
    "$\\therefore$ the answers are consistent with what we obtained in _Q2_.\n",
    "\n",
    "5. **Should the participant change the initial decision to increase probability of winning?**\n",
    "\n",
    "`Answer`: yes, under giving conditions the participant should always switch to maximize the winning probability.  \n",
    "Non-switching strategy results in $P(win) = {1 \\over 3}$, while switching allows to obtain $P(win) = {2 \\over 3},$ which is confirmed by the calculations above. Although being a bit complex, the same conclusion can be drawn if we brute force the solution using the backward induction. The participant wins by switching doors $\\iff$ the wrong door is chosen initially, which happens in $2 \\over 3$ cases.\n"
   ]
  }
 ],
 "metadata": {
  "kernelspec": {
   "display_name": "Python 3 (ipykernel)",
   "language": "python",
   "name": "python3"
  },
  "language_info": {
   "codemirror_mode": {
    "name": "ipython",
    "version": 3
   },
   "file_extension": ".py",
   "mimetype": "text/x-python",
   "name": "python",
   "nbconvert_exporter": "python",
   "pygments_lexer": "ipython3",
   "version": "3.9.12"
  },
  "vscode": {
   "interpreter": {
    "hash": "aee8b7b246df8f9039afb4144a1f6fd8d2ca17a180786b69acc140d282b71a49"
   }
  }
 },
 "nbformat": 4,
 "nbformat_minor": 2
}
