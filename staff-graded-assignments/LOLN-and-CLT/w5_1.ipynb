{
 "cells": [
  {
   "cell_type": "markdown",
   "metadata": {},
   "source": [
    "**A fair coin is tossed 400 times. Let X be number of heads. Prove that $P(X>240) \\leq \\frac{1}{32}$**\n",
    "\n",
    "Given that the fair tossing with such a high sample is a binomial distribution and that $|\\mu - \\mathop{\\mathbb{E}}| \\rightarrow 0$, we can use Chebyshev's inequality to prove that $P(X>240) \\leq \\frac{1}{32}$.\n",
    "\n",
    "The Chebyshev's inequality is defined as $P(| X - \\mathop{\\mathbb{E}{X}} | \\geq \\alpha) \\leq \\frac{VarX}{\\alpha^2} \\mid \\alpha > 0$\n",
    "\n",
    "Now, let us plug in the values for the inequality.\n",
    "- $\\forall x \\mathop{\\mathbb{E}{x}} = \\frac{1}{2} \\implies \\mu = \\mathop{\\mathbb{E}{X}} = 200$ \n",
    "- $Var(X)$, given that this is a binomial distribution, is defined by $\\sigma^2 = np(1-p) = 400 \\cdot \\frac{1}{2} \\cdot \\frac{1}{2} = 100 \\therefore \\sigma = 10$ \n",
    "\n",
    "Given that the probability of r.v. $X$ deviating from its $\\mu$ by more than $n$ standard deviations is at most $\\frac{1}{n^2}$\n",
    "\n",
    "$\\implies P(| X - 200 | \\geq 40) \\leq \\frac{1}{n^2} \\implies \\frac{1}{n^2} \\leq P(X−200 \\leq 4 \\cdot n) \\leq \\frac{\\mathop{\\mathbb{E}}(X−200)^2}{(4n^2)}$\n",
    "\n",
    "$\\implies \\frac{1}{n^2} \\leq P(X−200 \\leq 4 \\cdot n) \\leq \\frac {100}{4n^2}$\n",
    "\n",
    "$\\implies n^2 \\leq 25, n \\leq 5$\n",
    "\n",
    "$\\therefore P(X>240) \\leq  P(X−200 \\geq 40) \\leq \\frac{1}{n^2} \\leq \\frac {1}{25} \\leq \\frac{1}{32}$ $\\blacksquare$"
   ]
  }
 ],
 "metadata": {
  "kernelspec": {
   "display_name": "Python 3 (ipykernel)",
   "language": "python",
   "name": "python3"
  },
  "language_info": {
   "codemirror_mode": {
    "name": "ipython",
    "version": 3
   },
   "file_extension": ".py",
   "mimetype": "text/x-python",
   "name": "python",
   "nbconvert_exporter": "python",
   "pygments_lexer": "ipython3",
   "version": "3.9.12"
  }
 },
 "nbformat": 4,
 "nbformat_minor": 2
}
