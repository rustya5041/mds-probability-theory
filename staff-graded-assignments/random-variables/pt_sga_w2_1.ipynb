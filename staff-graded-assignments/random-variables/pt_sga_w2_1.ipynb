{
 "cells": [
  {
   "cell_type": "markdown",
   "metadata": {},
   "source": [
    "Space Company Z is preparing to launch a spaceship. \n",
    "- If the launch is successful, the company earns \\$100 million in profit. Probability of success is 9/10.\n",
    "- In case of failure, the company loses \\$200 million. Probability of failure is 1/10. \n",
    "- The company can buy insurance for this launch. Cost of insurance is \\$30 million (paid before the launch). \n",
    "- In case of failure the insurer will pay Space Company Z $200 million. \n",
    "\n",
    "Consider two cases: \n",
    "1. Space Company Z decided not to buy insurance. \n",
    "2. Space Company Z decided to buy insurance. \n",
    "\n",
    "Tasks\n",
    "- Denote its profit in the first case by X and in the second case by Y (In the second case profit includes payments to/from the insurer taken with appropriate sign.) \n",
    "- Find expected values and variances of X and Y. \n",
    "- Describe how buying of insurance affects the profit, its expected value and variance? Does buying insurance is cost-efficient in the long run? \n",
    "- In which case Space Company Z can decide to buy insurance and why?"
   ]
  },
  {
   "cell_type": "markdown",
   "metadata": {},
   "source": [
    "Let us formalize the probabilities (P), profits without insurance (X), and profits with insurance (Y).\n",
    "\n",
    "We obtain the convenient table:\n",
    "\n",
    "| $P$ | $0.1$  | $0.9$ |\n",
    "|:---:|:-----:|:-----:|\n",
    "| $X$ | $-2 * 10^8$ | $10^8$ |\n",
    "| $Y$ | $-3 * 10^6$ |$-7 * 10^7$ |\n",
    "| $(X - \\mathbb{E}X)^2 $  |  $ 7.29 \\cdot 10^{10} $| $ 9 \\cdot 10^8$ |\n",
    "| $(Y - \\mathbb{E}Y)^2 $  |  $ 8.1 \\cdot 10^9 $| $ 10^8$ |\n",
    "\n",
    "In a more readable view, `m = million`:\n",
    "\n",
    "| $P$  | $0.1$  | $0.9$ |\n",
    "|:--:|:----:|:---:|\n",
    "| $X$ | -200 m | 100 m |\n",
    "| $Y$ | -30 m | 70 m |\n",
    "| $(X - \\mathbb{E}X)^2 $|  72900 m | 900 m |\n",
    "| $(Y - \\mathbb{E}Y)^2 $ |  8100 m| 100 m |\n",
    "\n",
    "\n",
    "---\n",
    "To calculate the expected profits of $X$, $Y$, we can use the expected value formula: $\\mathbb{E}V= v{_1} \\cdot P{_1} + ... + v{_n} \\cdot P{_n}$\n",
    "\n",
    "$\\implies$ expected value **without** insurance: $\\mathbb{E}X= ({9 \\over 10} \\cdot 10^8) + ({1 \\over 10} \\cdot - 2 \\cdot 10^8) = 7 * 10^7 = 70 000 000$  \n",
    "\n",
    "$\\implies$ expected value **with** insurance: $\\mathbb{E}Y= ({9 \\over 10} \\cdot 7 \\cdot 10^7) + ({1 \\over 10} \\cdot - 3 \\cdot 10^7) = 6 * 10^7 = 60 000 000$  \n",
    "\n",
    "---\n",
    "To find variances of $X$, $Y$, we use the variance formula: $Var(V) = \\mathbb{E}((V - \\mathbb{E}V)^2)$\n",
    "\n",
    "$\\implies$ variance **without** insurance: $Var(X) = \\mathbb{E}((X - \\mathbb{E}X)^2) = (7.29 \\cdot 10^9 \\cdot 0.1) + (9 \\cdot 10^8 \\cdot 0.9) = 8.1 \\cdot 10^9 = 8 100 000 000$\n",
    "\n",
    "$\\implies$ variance **with** insurance: $Var(Y) = \\mathbb{E}((Y - \\mathbb{E}Y)^2) = (8.1 \\cdot 10^9 \\cdot 0.1) + (10^8 \\cdot 0.9) = 9 \\cdot 10^8 = 900 000 000$\n",
    "\n",
    "---\n",
    "`Describe how buying of insurance affects the profit, its expected value and variance? Does buying insurance is cost-efficient in the long run?`\n",
    "- Net profit with the insurance will be decreased by the constant value of 30m in either situation of success or failure (damage costs are mitigated during failure per the assignment condition). \n",
    "- The expected profit with insurance is lower by 10m compared to the expected profit when the insuarance is not bought. Despite that, the squared error loss is 9 times lower when the insurance is bought, which allows for more damage control.\n",
    "- If the company is risk-averse and is interested in damage mitigation (and is not solely profit-oriented), then insurance guarantees that the failure lossess will be less damaging. In the **short-run**, the company can be better off by purchasing the insurance, as companies typically do not possess infinite resources; even two consecutive failures may permanently bankrupt the company. In the **long-run**, however, given that probabilities do not change, there's a different picture: if we simulate 1000 rocket launches, and assume 900 of them were successful, the company's expected profit is $\\mathbb{E}X = (900 * 100000000) + (100 * -200000000) = 70$ billion$, compared to $60$ billion$ when the insurance is bought. So, as number of launches $n$ grows, the company may obstain from buying the insurance. Moreover, real world companies tend to learn from their mistakes $\\implies$ the probability of failure $P(fail)$ is expected be lower after some arbitrarily large $n$.\n",
    "\n",
    "`In which case Space Company Z can decide to buy insurance and why?`\n",
    "- Theoretical implications suggest that the company is better-off by not buying the insurance in the short-run, given the _static_ probabilities and _omitting_ other varaibles like bankruptcy, reputation, etc. However, real-world situations do not possess the level of simplicity presented in the assgiment.  \n",
    "$\\therefore$ company can decide to purchase the insurance if it is 1) new, and plans to remain operational in the long-run,  2) is resource-limited, 3) underestimates the probability of failure and $P(fail)$ can increase 4) is not solely profit-oriented ($70$ vs $60$ is not such a trade-off after all). However, as I describe above, with the growing number of launches and company maturity there's typically less need for insurance.\n",
    "\n"
   ]
  }
 ],
 "metadata": {
  "kernelspec": {
   "display_name": "Python 3 (ipykernel)",
   "language": "python",
   "name": "python3"
  },
  "language_info": {
   "codemirror_mode": {
    "name": "ipython",
    "version": 3
   },
   "file_extension": ".py",
   "mimetype": "text/x-python",
   "name": "python",
   "nbconvert_exporter": "python",
   "pygments_lexer": "ipython3",
   "version": "3.9.12"
  }
 },
 "nbformat": 4,
 "nbformat_minor": 2
}
