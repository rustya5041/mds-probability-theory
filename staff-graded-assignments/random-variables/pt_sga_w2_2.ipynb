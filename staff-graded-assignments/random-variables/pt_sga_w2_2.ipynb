{
 "cells": [
  {
   "cell_type": "markdown",
   "metadata": {},
   "source": [
    "I can buy one lottery ticket out of two available. \n",
    "\n",
    "1. In the first lottery I can win \\$100 with probability 0.1, and the price of ticket is \\\\$10. \n",
    "2. In the second lottery, I can win \\$50 with probability 0.1 and \\\\$500 with probability 0.01. The price of ticket is \\\\$20. \n",
    "\n",
    "To decide which ticket to buy I toss a fair coin once. I chose first ticket in case of head and second otherwise. \n",
    "\n",
    "Let X be random variable that denotes my net payout (taking into account price of a ticket). \n",
    "\n",
    "- Find probability mass function of X (hint: use law of total probability). \n",
    "- Show that expected value of X is an average of expected values of net payouts for each of two lotteries. Explain, why. Will it still hold if lotteries has different payouts or probabilities? Prove it."
   ]
  },
  {
   "cell_type": "markdown",
   "metadata": {},
   "source": [
    "Let us formalize the probabilities (P) and net profits (X).\n",
    "\n",
    "For the first lottery `F`:\n",
    "\n",
    "| P | 0.1  | 0.9 |\n",
    "|---|------|-----|\n",
    "| X | 90   | -10 |\n",
    "\n",
    "For the second lottery `S`:\n",
    "\n",
    "| P | 0.1  | 0.01 | 0.89|\n",
    "|---|------|------|------|\n",
    "| X | 30   | 480  | -20  |\n",
    "\n",
    "---\n",
    "Since we use a fair coin to determine which lottery to play, the probability to obtain heads ($H$) and tails ($T$) is equal, namely  \n",
    "$\\implies$ $P(H) = P(T) = {1 \\over 2} \\therefore P(F) = P(S) = {1 \\over 2}$\n",
    "\n",
    "---\n",
    "The expected value of the net profit is the sum of the probabilities of each outcome multiplied by the value of the outcome.  \n",
    "\n",
    "For $F$, we obtain $\\mathbb{E}(F) = (0.1 \\cdot 90) + (0.9 \\cdot -10) = 0$  \n",
    "For $S$, we obtain $\\mathbb{E}(S) = (0.1 \\cdot 30) + (0.01 \\cdot 480) + (0.89 \\cdot -20) = -10$\n",
    "\n",
    "Since the probabilities of lotteries $P(F) = P(S) = {1 \\over 2}$  \n",
    "$\\implies \\mathbb{E}(X) = (\\mathbb{E}(F) \\cdot P(F)) + (\\mathbb{E}(S) \\cdot P(S)) = ({1 \\over 2} \\cdot 0) + ({1 \\over 2} \\cdot -10) = -5$\n",
    "\n",
    "---\n",
    "Now to check that $\\mathbb{E}(X) = 5$ is indeed correct and is the average of $\\mathbb{E}(F)$ and $\\mathbb{E}(S)$, we need to find PMF of $X$ using the low of total probability:\n",
    "\n",
    "$P(A) = \\sum_{n} P(A \\cap B{_n})  = \\sum_{n} P(B{_n}) \\cdot P(A \\mid B{_n})$\n",
    "\n",
    "- $P(X = -10) = ({1 \\over 2} \\cdot 0.9) + ({1 \\over 2} \\cdot 0) = 0.45$\n",
    "- $P(X = 90) = ({1 \\over 2} \\cdot 0.1) + ({1 \\over 2} \\cdot 0) = 0.05$\n",
    "- $P(X = 30) = ({1 \\over 2} \\cdot 0.1) + ({1 \\over 2} \\cdot 0) = 0.05$\n",
    "- $P(X = 480) = ({1 \\over 2} \\cdot 0.01) + ({1 \\over 2} \\cdot 0) = 0.005$\n",
    "- $P(X = -20) = ({1 \\over 2} \\cdot 0.89) + ({1 \\over 2} \\cdot 0) = 0.445$\n",
    "\n",
    "Sanity check that the sum of probabilities equals to 1:  \n",
    "\n",
    "$\\sum_{n} P(X{_n}) = 0.45 + 0.05 + 0.05 + 0.005 + 0.445 = 1$\n",
    "\n",
    "---\n",
    "Given the obtained PMF, we can construct the final table of probabilities (P) and outcomes (X):\n",
    "\n",
    "| P | 0.005| 0.05| 0.05| 0.445| 0.45|\n",
    "|---|------|-----|-----|------|-----|\n",
    "| X | 480  | 30  | 90  | -20  | -10 |\n",
    "\n",
    "$\\implies \\mathbb{E}(X) = (0.005 \\cdot 480) + (0.05 \\cdot 30) + (0.05 \\cdot 90) + (0.445 \\cdot -20) + (0.45 \\cdot -10) = -5$\n",
    "\n",
    "$\\implies \\mathbb{E}(X) = (\\mathbb{E}(F) \\cdot P(F)) + (\\mathbb{E}(S) \\cdot P(S)) = {{\\mathbb{E}(F) + \\mathbb{E}(S)} \\over 2}$\n",
    "\n",
    "$\\therefore$ if the probabilities of choosing arbitrary lottery $n$ are equal, we can formulate the general solution as follows:\n",
    "\n",
    "$\\mathbb{E}(X) = \\sum_{n} \\mathbb{E}(X{_n}) \\cdot P(X{_n}) = \\sum_{n} \\mathbb{E}(X{_n}) \\cdot {1 \\over N}$, where $N$ is the number of lotteries."
   ]
  }
 ],
 "metadata": {
  "kernelspec": {
   "display_name": "Python 3 (ipykernel)",
   "language": "python",
   "name": "python3"
  },
  "language_info": {
   "codemirror_mode": {
    "name": "ipython",
    "version": 3
   },
   "file_extension": ".py",
   "mimetype": "text/x-python",
   "name": "python",
   "nbconvert_exporter": "python",
   "pygments_lexer": "ipython3",
   "version": "3.9.12"
  }
 },
 "nbformat": 4,
 "nbformat_minor": 2
}
