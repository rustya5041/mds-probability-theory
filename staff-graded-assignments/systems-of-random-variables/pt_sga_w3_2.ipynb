{
 "cells": [
  {
   "cell_type": "markdown",
   "metadata": {},
   "source": [
    "_Consider Bernoulli random variable, i.e. random variable that takes value $1$ with probability $p$ and value $0$ with probability $1-p$. Find its variance. Then find variance of binomial random variable with probability of success (i.e. head) $p$ and number of trials (i.e. tosses) $n$_\n",
    "\n",
    "---\n",
    "If $X$ is a Bernoulli random variable with probability of success $p \\implies X$ takes value $1$ with probability $p$ and value $0$ with probability $1-p$. \n",
    "\n",
    "$\\implies \\mathbb{E}(𝑋) = 1 \\cdot p + 0 \\cdot (1 - p) = p$  \n",
    "$\\implies \\mathbb{E}(X^2) = 1^2 \\cdot p + 0^2 \\cdot (1-p) = p$ \n",
    "\n",
    "Using the variane formula, we obtain $Var(X) = \\mathbb{E}(X^2) - \\mathbb{E}(X)^2 = p - p^2 = p(1-p) \\therefore$ the variance of a Bernoulli random variable is $p \\cdot (1-p)$ \n",
    "\n",
    "---\n",
    "If $X_1,X_2,\\ldots,X_n$ are independent Bernoulli random variables with probability of success $p$ and $X_1+X_2+\\cdots+X_n$ is a binomial random variable with probability of success $p$ and number of trials $n$\n",
    "\n",
    "$\\implies \\mathbb{E}(X_1+X_2+\\cdots+X_n)= \\sum_{i=1}^{n}\\mathbb{E}(X{_i}) = np$\n",
    "\n",
    "Given that events are independent, the variance can be calculated as:\n",
    "\n",
    "$Var(X) = Var(X_1,X_2,\\ldots,X_n) = Var(X_1) + Var(X_2) + \\ldots + Var(X_n) = \\sum_{i=1}^{n}\\mathbb{Var}(X{_i}) = np(1-p) + np(1-p) + \\ldots + np(1-p)$\n",
    "\n",
    "$\\implies Var(X) = np \\cdot (1 - p)$\n",
    "\n",
    "\n"
   ]
  }
 ],
 "metadata": {
  "kernelspec": {
   "display_name": "Python 3 (ipykernel)",
   "language": "python",
   "name": "python3"
  },
  "language_info": {
   "codemirror_mode": {
    "name": "ipython",
    "version": 3
   },
   "file_extension": ".py",
   "mimetype": "text/x-python",
   "name": "python",
   "nbconvert_exporter": "python",
   "pygments_lexer": "ipython3",
   "version": "3.9.12"
  }
 },
 "nbformat": 4,
 "nbformat_minor": 2
}
