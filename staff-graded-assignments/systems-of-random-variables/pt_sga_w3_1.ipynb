{
 "cells": [
  {
   "cell_type": "markdown",
   "metadata": {},
   "source": [
    "*Use definition of variance and properties of expected value to prove that for any discrete random variable $X$, $Var𝑋=\\mathbb{E}(X^2)−(\\mathbb{E}X)^2$*\n",
    "\n",
    "---\n",
    "1. Let us start with the variance formula: $Var(X) = \\mathbb{E}((X-\\mathbb{E}X)^2)$ \n",
    "\n",
    "2. Now, we can expand the square and obtain: $\\mathbb{E}(X-\\mathbb{E}X)^2 = \\mathbb{E}(X^2 - 2X\\mathbb{E}X + \\mathbb{E}X^2)$.\n",
    "\n",
    "3. Using the properties of the expected value, we get: $\\mathbb{E}(X^2 - 2X\\mathbb{E}X + \\mathbb{E}X^2) = \\mathbb{E}(X^2) - 2\\mathbb{E}(X)\\mathbb{E}(X) + \\mathbb{E}(\\mathbb{E}(X^2)) = \\mathbb{E}(X^2) - 2\\mathbb{E}(X)^2 + \\mathbb{E}(X^2)$.\n",
    "\n",
    "5. Simplifying, we get: $\\mathbb{E}(X^2) - 2\\mathbb{E}(X)^2 + \\mathbb{E}(X^2) = \\mathbb{E}(X^2) - \\mathbb{E}(X)^2$\n",
    "\n",
    "    $\\implies Var(X) = \\mathbb{E}(X^2) - \\mathbb{E}(X)^2$ \n",
    "\n",
    "`Overall solution:`\n",
    "\n",
    "$Var(X) = \\mathbb{E}((X-\\mathbb{E}X)^2) = \\mathbb{E}(X^2 - 2X\\mathbb{E}X + \\mathbb{E}X^2) = \\mathbb{E}(X^2) - 2\\mathbb{E}(X)\\mathbb{E}(X) + \\mathbb{E}(\\mathbb{E}(X^2)) = \\mathbb{E}(X^2) - 2\\mathbb{E}(X)^2 + \\mathbb{E}(X^2) = \\mathbb{E}(X^2) - \\mathbb{E}(X)^2  \\blacksquare$"
   ]
  }
 ],
 "metadata": {
  "kernelspec": {
   "display_name": "Python 3 (ipykernel)",
   "language": "python",
   "name": "python3"
  },
  "language_info": {
   "codemirror_mode": {
    "name": "ipython",
    "version": 3
   },
   "file_extension": ".py",
   "mimetype": "text/x-python",
   "name": "python",
   "nbconvert_exporter": "python",
   "pygments_lexer": "ipython3",
   "version": "3.9.12"
  }
 },
 "nbformat": 4,
 "nbformat_minor": 2
}
